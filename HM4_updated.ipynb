{
  "nbformat": 4,
  "nbformat_minor": 0,
  "metadata": {
    "colab": {
      "provenance": [],
      "gpuType": "T4",
      "authorship_tag": "ABX9TyOBbznlKLM9s5a/wFTBdfcG",
      "include_colab_link": true
    },
    "kernelspec": {
      "name": "python3",
      "display_name": "Python 3"
    },
    "language_info": {
      "name": "python"
    },
    "accelerator": "GPU"
  },
  "cells": [
    {
      "cell_type": "markdown",
      "metadata": {
        "id": "view-in-github",
        "colab_type": "text"
      },
      "source": [
        "<a href=\"https://colab.research.google.com/github/aleszcz/Aleks_portfolio/blob/main/HM4_updated.ipynb\" target=\"_parent\"><img src=\"https://colab.research.google.com/assets/colab-badge.svg\" alt=\"Open In Colab\"/></a>"
      ]
    },
    {
      "cell_type": "code",
      "execution_count": null,
      "metadata": {
        "colab": {
          "base_uri": "https://localhost:8080/"
        },
        "id": "wEAf5rlfoukR",
        "outputId": "461c8928-6213-45f0-ed3c-f312e8a68280"
      },
      "outputs": [
        {
          "output_type": "stream",
          "name": "stdout",
          "text": [
            "Eigenvalues:\n",
            "[2. 5.]\n",
            "\n",
            "Eigenvectors:\n",
            "[[1. 0.]\n",
            " [0. 1.]]\n"
          ]
        }
      ],
      "source": [
        "import numpy as np\n",
        "\n",
        "# Define the matrix\n",
        "matrix_A = np.array([[2, 0],\n",
        "                     [0, 5]])\n",
        "\n",
        "# Calculate eigenvalues and eigenvectors\n",
        "eigenvalues, eigenvectors = np.linalg.eig(matrix_A)\n",
        "\n",
        "# Print the results\n",
        "print(\"Eigenvalues:\")\n",
        "print(eigenvalues)\n",
        "\n",
        "print(\"\\nEigenvectors:\")\n",
        "print(eigenvectors)\n"
      ]
    },
    {
      "cell_type": "code",
      "source": [
        "import numpy as np\n",
        "\n",
        "# Define the matrix\n",
        "matrix_A = np.array([[4, 1, 6],\n",
        "                    [0, 2, 3],\n",
        "                    [0, 0, 9]])\n",
        "\n",
        "# Calculate eigenvalues and eigenvectors\n",
        "eigenvalues, eigenvectors = np.linalg.eig(matrix_A)\n",
        "\n",
        "# Print the results\n",
        "print(\"Eigenvalues:\")\n",
        "print(eigenvalues)\n",
        "\n",
        "print(\"\\nEigenvectors:\")\n",
        "print(eigenvectors)\n"
      ],
      "metadata": {
        "colab": {
          "base_uri": "https://localhost:8080/"
        },
        "id": "HcUr5FGHs592",
        "outputId": "5586295f-987c-46eb-d96a-a2c599da7f3d"
      },
      "execution_count": null,
      "outputs": [
        {
          "output_type": "stream",
          "name": "stdout",
          "text": [
            "Eigenvalues:\n",
            "[4. 2. 9.]\n",
            "\n",
            "Eigenvectors:\n",
            "[[ 1.         -0.4472136   0.76337004]\n",
            " [ 0.          0.89442719  0.25445668]\n",
            " [ 0.          0.          0.59373225]]\n"
          ]
        }
      ]
    },
    {
      "cell_type": "code",
      "source": [
        "import numpy as np\n",
        "\n",
        "# Define the matrix\n",
        "matrix_A = np.array([[1, 4, 0, 0],\n",
        "                    [0, 2, 0, 0],\n",
        "                    [4, 5, 1, 1],\n",
        "                    [4, 7, 2, 2]])\n",
        "\n",
        "# Calculate eigenvalues and eigenvectors\n",
        "eigenvalues, eigenvectors = np.linalg.eig(matrix_A)\n",
        "\n",
        "# Print the results\n",
        "print(\"Eigenvalues:\")\n",
        "print(eigenvalues)\n",
        "\n",
        "print(\"\\nEigenvectors:\")\n",
        "print(eigenvectors)\n"
      ],
      "metadata": {
        "colab": {
          "base_uri": "https://localhost:8080/"
        },
        "id": "Xm9P6Loqs6Bc",
        "outputId": "f9725f00-a1b4-448e-cbba-b0f6c9352fbb"
      },
      "execution_count": null,
      "outputs": [
        {
          "output_type": "stream",
          "name": "stdout",
          "text": [
            "Eigenvalues:\n",
            "[0. 3. 1. 2.]\n",
            "\n",
            "Eigenvectors:\n",
            "[[ 0.00000000e+00  0.00000000e+00  2.42535625e-01  1.15206341e-01]\n",
            " [ 0.00000000e+00  0.00000000e+00  0.00000000e+00  2.88015853e-02]\n",
            " [-7.07106781e-01 -4.47213595e-01 -2.17031968e-17 -3.31218231e-01]\n",
            " [ 7.07106781e-01 -8.94427191e-01 -9.70142500e-01 -9.36051522e-01]]\n"
          ]
        }
      ]
    },
    {
      "cell_type": "code",
      "source": [
        "#No, the concept of eigenvalues and eigenvectors is specifically defined for square matrices. In linear algebra, a square matrix is a matrix with an equal number of rows and columns."
      ],
      "metadata": {
        "id": "gjUluBpW03Xo"
      },
      "execution_count": null,
      "outputs": []
    },
    {
      "cell_type": "code",
      "source": [
        "#SVD\n",
        "import numpy as np\n",
        "\n",
        "# Define the matrix\n",
        "matrix_A = np.array([[5, 7, 21, 32],\n",
        "                    [0, 3, 43, 24],\n",
        "                    [2, 36, 95, 84],\n",
        "                    [92, 37, 57, 64]])\n",
        "\n",
        "# Calculate SVD\n",
        "U, Sigma, Vt = np.linalg.svd(matrix_A)\n",
        "\n",
        "# Print the results\n",
        "print(\"Matrix U:\")\n",
        "print(U)\n",
        "\n",
        "print(\"\\nMatrix Sigma (Diagonal matrix):\")\n",
        "print(np.diag(Sigma))\n",
        "\n",
        "print(\"\\nMatrix V transpose:\")\n",
        "print(Vt)\n"
      ],
      "metadata": {
        "colab": {
          "base_uri": "https://localhost:8080/"
        },
        "id": "S4khqZ7ys6I7",
        "outputId": "72858aaf-84b7-4da3-dbe8-8e70e877ff37"
      },
      "execution_count": null,
      "outputs": [
        {
          "output_type": "stream",
          "name": "stdout",
          "text": [
            "Matrix U:\n",
            "[[-0.20468979 -0.10450951 -0.51344003 -0.82677638]\n",
            " [-0.24019891 -0.2628848   0.8325511  -0.42432856]\n",
            " [-0.68596945 -0.59544671 -0.19825567  0.36821708]\n",
            " [-0.65563137  0.7519392   0.06271115  0.02832426]]\n",
            "\n",
            "Matrix Sigma (Diagonal matrix):\n",
            "[[181.08950358   0.           0.           0.        ]\n",
            " [  0.          73.81513152   0.           0.        ]\n",
            " [  0.           0.          14.85458672   0.        ]\n",
            " [  0.           0.           0.           8.32221756]]\n",
            "\n",
            "Matrix V transpose:\n",
            "[[-0.34631203 -0.28221783 -0.64700119 -0.61790819]\n",
            " [ 0.91397203  0.06591396 -0.36856466 -0.15643072]\n",
            " [ 0.18887868 -0.39808031  0.65688152 -0.61185258]\n",
            " [-0.09512076  0.87036804  0.11855891 -0.46835383]]\n"
          ]
        }
      ]
    },
    {
      "cell_type": "code",
      "source": [
        "import numpy as np\n",
        "\n",
        "# Define the matrix\n",
        "original_matrix = np.array([[5, 7, 21, 32],\n",
        "                            [0, 3, 43, 24],\n",
        "                            [2, 36, 95, 84],\n",
        "                            [92, 37, 57, 64]])\n",
        "\n",
        "# Compute SVD\n",
        "U, Sigma, Vt = np.linalg.svd(original_matrix, full_matrices=True)\n",
        "\n",
        "# Diagonal matrix from Sigma values\n",
        "Sigma_matrix = np.diag(Sigma)\n",
        "\n",
        "# Verify by multiplying U, Sigma, and Vt\n",
        "reconstructed_matrix = np.dot(U, np.dot(Sigma_matrix, Vt))\n",
        "\n",
        "# Print the results\n",
        "print(\"Original Matrix:\")\n",
        "print(original_matrix)\n",
        "\n",
        "print(\"\\nU Matrix:\")\n",
        "print(U)\n",
        "\n",
        "print(\"\\nSigma Matrix:\")\n",
        "print(Sigma_matrix)\n",
        "\n",
        "print(\"\\nVt Matrix:\")\n",
        "print(Vt)\n",
        "\n",
        "print(\"\\nReconstructed Matrix:\")\n",
        "print(reconstructed_matrix)\n"
      ],
      "metadata": {
        "colab": {
          "base_uri": "https://localhost:8080/"
        },
        "id": "Ei2Orx5-x2vl",
        "outputId": "5c53e3af-b9ff-4a0d-de9c-02ede19c8df3"
      },
      "execution_count": null,
      "outputs": [
        {
          "output_type": "stream",
          "name": "stdout",
          "text": [
            "Original Matrix:\n",
            "[[ 5  7 21 32]\n",
            " [ 0  3 43 24]\n",
            " [ 2 36 95 84]\n",
            " [92 37 57 64]]\n",
            "\n",
            "U Matrix:\n",
            "[[-0.20468979 -0.10450951 -0.51344003 -0.82677638]\n",
            " [-0.24019891 -0.2628848   0.8325511  -0.42432856]\n",
            " [-0.68596945 -0.59544671 -0.19825567  0.36821708]\n",
            " [-0.65563137  0.7519392   0.06271115  0.02832426]]\n",
            "\n",
            "Sigma Matrix:\n",
            "[[181.08950358   0.           0.           0.        ]\n",
            " [  0.          73.81513152   0.           0.        ]\n",
            " [  0.           0.          14.85458672   0.        ]\n",
            " [  0.           0.           0.           8.32221756]]\n",
            "\n",
            "Vt Matrix:\n",
            "[[-0.34631203 -0.28221783 -0.64700119 -0.61790819]\n",
            " [ 0.91397203  0.06591396 -0.36856466 -0.15643072]\n",
            " [ 0.18887868 -0.39808031  0.65688152 -0.61185258]\n",
            " [-0.09512076  0.87036804  0.11855891 -0.46835383]]\n",
            "\n",
            "Reconstructed Matrix:\n",
            "[[ 5.00000000e+00  7.00000000e+00  2.10000000e+01  3.20000000e+01]\n",
            " [-1.66660416e-15  3.00000000e+00  4.30000000e+01  2.40000000e+01]\n",
            " [ 2.00000000e+00  3.60000000e+01  9.50000000e+01  8.40000000e+01]\n",
            " [ 9.20000000e+01  3.70000000e+01  5.70000000e+01  6.40000000e+01]]\n"
          ]
        }
      ]
    },
    {
      "cell_type": "code",
      "source": [
        "import numpy as np\n",
        "\n",
        "A = np.array([[5, 7, 21, 32],\n",
        "              [0, 3, 43, 24],\n",
        "              [2, 36, 95, 84],\n",
        "              [92, 37, 57, 64]])\n",
        "\n",
        "A[0, :] = A[1, :] + A[2, :]  # Make the first row the sum of the 2nd and 3rd rows\n",
        "A[-1, :] = A[1, :]           # Make the last row the same as the 2nd row\n",
        "\n",
        "print(A)"
      ],
      "metadata": {
        "colab": {
          "base_uri": "https://localhost:8080/"
        },
        "id": "G9FIazKvx2zH",
        "outputId": "dbf3ecdd-327e-4603-87fe-33db1e0f75f7"
      },
      "execution_count": null,
      "outputs": [
        {
          "output_type": "stream",
          "name": "stdout",
          "text": [
            "[[  2  39 138 108]\n",
            " [  0   3  43  24]\n",
            " [  2  36  95  84]\n",
            " [  0   3  43  24]]\n"
          ]
        }
      ]
    },
    {
      "cell_type": "code",
      "source": [
        "U, S, V = np.linalg.svd(A)\n",
        "print(A)"
      ],
      "metadata": {
        "colab": {
          "base_uri": "https://localhost:8080/"
        },
        "id": "QTiZW23-s6Ma",
        "outputId": "3089acde-435c-4128-82fb-28b7f44cb411"
      },
      "execution_count": null,
      "outputs": [
        {
          "output_type": "stream",
          "name": "stdout",
          "text": [
            "[[  2  39 138 108]\n",
            " [  0   3  43  24]\n",
            " [  2  36  95  84]\n",
            " [  0   3  43  24]]\n"
          ]
        }
      ]
    },
    {
      "cell_type": "code",
      "source": [
        "# Why the last 2 values of the ‘Sigma’ matrix values are zeros\n",
        "#result of the rank deficiency of the modified matrix A. In this case, the last two rows of the matrix are linearly dependent on the first two rows.\n",
        "# When performing SVD, the singular values in the Sigma matrix represent the magnitude of the singular vectors.\n",
        "#If there are fewer non-zero singular values than the size of the matrix, it indicates that the matrix has less than full rank."
      ],
      "metadata": {
        "id": "lgeZgdI2BTHY"
      },
      "execution_count": null,
      "outputs": []
    },
    {
      "cell_type": "code",
      "source": [
        "#In this specific example, the last two singular values are zero because the matrix A is rank-deficient.\n",
        "#The zero singular values indicate that there are linear dependencies in the rows (or columns) of the matrix, and this results in a lower-rank representation.\n",
        "#The rank of a matrix indicates how many of these rows (or columns) are independent, meaning they provide unique information.\n",
        "#Having a lower rank suggests that there is less diversity or independence among the rows (or columns) of the matrix."
      ],
      "metadata": {
        "id": "wA_9_ZXhBTJo"
      },
      "execution_count": null,
      "outputs": []
    },
    {
      "cell_type": "code",
      "source": [
        "#rectangal matrix\n",
        "import numpy as np\n",
        "A = np.array([[3, 1, 1],[-1,3,1]])\n",
        "#B = np.array ([[1, 1],[0, 1],[-1, 1]])\n",
        "print(A)\n",
        "#print(B)\n"
      ],
      "metadata": {
        "colab": {
          "base_uri": "https://localhost:8080/"
        },
        "id": "HkKoitHhErjP",
        "outputId": "d5fab53b-e1e8-4e18-a359-056cbf966007"
      },
      "execution_count": null,
      "outputs": [
        {
          "output_type": "stream",
          "name": "stdout",
          "text": [
            "[[ 3  1  1]\n",
            " [-1  3  1]]\n"
          ]
        }
      ]
    },
    {
      "cell_type": "code",
      "source": [
        "#compute AtA and AAT  to get Square\n",
        "ATA= np.dot(A.T,A)\n",
        "AAT = np.dot(A,A.T)\n",
        "print('ATA')\n",
        "print(ATA)\n",
        "\n",
        "print('AAT')\n",
        "print(AAT)"
      ],
      "metadata": {
        "colab": {
          "base_uri": "https://localhost:8080/"
        },
        "id": "w9y9ZIjrErlt",
        "outputId": "8cf0eb55-e13f-408c-ee35-973455031b69"
      },
      "execution_count": null,
      "outputs": [
        {
          "output_type": "stream",
          "name": "stdout",
          "text": [
            "ATA\n",
            "[[10  0  2]\n",
            " [ 0 10  4]\n",
            " [ 2  4  2]]\n",
            "AAT\n",
            "[[11  1]\n",
            " [ 1 11]]\n"
          ]
        }
      ]
    },
    {
      "cell_type": "code",
      "source": [
        "from scipy.linalg import eig\n",
        "#compute Eigen vectors and values of ATA\n",
        "\n",
        "# Assuming ATA is defined earlier in your code\n",
        "values, vectors = eig(ATA)\n",
        "print()\n",
        "print(values)\n",
        "print()\n",
        "print(vectors)\n"
      ],
      "metadata": {
        "colab": {
          "base_uri": "https://localhost:8080/"
        },
        "id": "z440BWZXJJ-l",
        "outputId": "e3114d36-944c-40f4-dd82-64b17639793d"
      },
      "execution_count": null,
      "outputs": [
        {
          "output_type": "stream",
          "name": "stdout",
          "text": [
            "\n",
            "[ 0.+0.j 10.+0.j 12.+0.j]\n",
            "\n",
            "[[ 1.82574186e-01 -8.94427191e-01 -4.08248290e-01]\n",
            " [ 3.65148372e-01  4.47213595e-01 -8.16496581e-01]\n",
            " [-9.12870929e-01  5.07704275e-16 -4.08248290e-01]]\n"
          ]
        }
      ]
    },
    {
      "cell_type": "code",
      "source": [
        "#decompose of ATA again\n",
        "# A = P*D*Transpose(P)\n",
        "# is matrix columns are eigien vectors of A and D i diagonal matrix of eigen values of A along the diagonal\n",
        "\n",
        "r= np.dot(vectors, np.diag(values))\n",
        "recreated = np.dot(r,vectors.T)\n",
        "print('REcreated Matrix =')\n",
        "print('Eigen Vectors * Eigen Vlues * Transpose(Eigen Vectors)')\n",
        "print(recreated)\n",
        "print()\n",
        "print('Original Matrix =\\n',ATA)\n"
      ],
      "metadata": {
        "id": "FYjbSkgJJlv0",
        "colab": {
          "base_uri": "https://localhost:8080/"
        },
        "outputId": "bcee8154-4895-42c3-e4d0-20ad6f2c82b0"
      },
      "execution_count": null,
      "outputs": [
        {
          "output_type": "stream",
          "name": "stdout",
          "text": [
            "REcreated Matrix =\n",
            "Eigen Vectors * Eigen Vlues * Transpose(Eigen Vectors)\n",
            "[[1.00000000e+01+0.j 3.86082910e-15+0.j 2.00000000e+00+0.j]\n",
            " [4.40472508e-15+0.j 1.00000000e+01+0.j 4.00000000e+00+0.j]\n",
            " [2.00000000e+00+0.j 4.00000000e+00+0.j 2.00000000e+00+0.j]]\n",
            "\n",
            "Original Matrix =\n",
            " [[10  0  2]\n",
            " [ 0 10  4]\n",
            " [ 2  4  2]]\n"
          ]
        }
      ]
    },
    {
      "cell_type": "code",
      "source": [
        "#Compute Eigen vector AAT\n",
        "values, vectors= eig(AAT)\n",
        "\n",
        "print()\n",
        "print(values)\n",
        "print()\n",
        "print(vectors)"
      ],
      "metadata": {
        "colab": {
          "base_uri": "https://localhost:8080/"
        },
        "id": "kc49NSy4PsxQ",
        "outputId": "e95be318-42e2-4eab-b4a7-ac3ccae9f9ba"
      },
      "execution_count": null,
      "outputs": [
        {
          "output_type": "stream",
          "name": "stdout",
          "text": [
            "\n",
            "[12.+0.j 10.+0.j]\n",
            "\n",
            "[[ 0.70710678 -0.70710678]\n",
            " [ 0.70710678  0.70710678]]\n"
          ]
        }
      ]
    },
    {
      "cell_type": "code",
      "source": [
        "#decompose AAT\n",
        "\n",
        "r= np.dot(vectors, np.diag(values))\n",
        "recreated = np.dot(r,vectors.T)\n",
        "print('REcreated Matrix =')\n",
        "print('Eigen Vectors * Eigen Vlues * Transpose(Eigen Vectors)')\n",
        "print(recreated)\n",
        "print()\n",
        "print('Original Matrix =\\n',AAT)"
      ],
      "metadata": {
        "colab": {
          "base_uri": "https://localhost:8080/"
        },
        "id": "h8dHya3aPszf",
        "outputId": "985597fc-4a3a-4eb3-d786-ab27c7505b91"
      },
      "execution_count": null,
      "outputs": [
        {
          "output_type": "stream",
          "name": "stdout",
          "text": [
            "REcreated Matrix =\n",
            "Eigen Vectors * Eigen Vlues * Transpose(Eigen Vectors)\n",
            "[[11.+0.j  1.+0.j]\n",
            " [ 1.+0.j 11.+0.j]]\n",
            "\n",
            "Original Matrix =\n",
            " [[11  1]\n",
            " [ 1 11]]\n"
          ]
        }
      ]
    },
    {
      "cell_type": "code",
      "source": [
        "#compute SVD of REctangle matrix\n",
        "np.set_printoptions( precision = 4, suppress=True)\n",
        "from scipy.linalg import svd\n"
      ],
      "metadata": {
        "id": "20efEjqVPs3B"
      },
      "execution_count": null,
      "outputs": []
    },
    {
      "cell_type": "code",
      "source": [
        "V, Sigma, UStar = svd (A)\n",
        "print(V, \"\\n\\n\", Sigma, \"\\n\\n\", UStar)\n"
      ],
      "metadata": {
        "colab": {
          "base_uri": "https://localhost:8080/"
        },
        "id": "BC_LLQQhRWlb",
        "outputId": "96a8b076-1066-4090-ed13-157daaacca3c"
      },
      "execution_count": null,
      "outputs": [
        {
          "output_type": "stream",
          "name": "stdout",
          "text": [
            "[[-0.7071 -0.7071]\n",
            " [-0.7071  0.7071]] \n",
            "\n",
            " [3.4641 3.1623] \n",
            "\n",
            " [[-0.4082 -0.8165 -0.4082]\n",
            " [-0.8944  0.4472  0.    ]\n",
            " [-0.1826 -0.3651  0.9129]]\n"
          ]
        }
      ]
    },
    {
      "cell_type": "code",
      "source": [
        "#computing back to the orgiginal maatrix back\n",
        "\n",
        "sigmaMatrix = np.diag(Sigma)\n",
        "print('Sigma Matrix \\n', sigmaMatrix)"
      ],
      "metadata": {
        "colab": {
          "base_uri": "https://localhost:8080/"
        },
        "id": "AGnB1sutRWoQ",
        "outputId": "88ed2712-26b2-40e0-9f97-591797662321"
      },
      "execution_count": null,
      "outputs": [
        {
          "output_type": "stream",
          "name": "stdout",
          "text": [
            "Sigma Matrix \n",
            " [[3.4641 0.    ]\n",
            " [0.     3.1623]]\n"
          ]
        }
      ]
    },
    {
      "cell_type": "code",
      "source": [
        "#apply zeros to get rectangular matrix-tricks\n",
        "z= np.zeros((2,1))\n",
        "sigmaMatrix_extended = np.hstack((sigmaMatrix,z))\n",
        "print(sigmaMatrix)\n"
      ],
      "metadata": {
        "colab": {
          "base_uri": "https://localhost:8080/"
        },
        "id": "tPuPWya2RWr0",
        "outputId": "fd447e58-7bfd-490b-cee0-4277d8bc5219"
      },
      "execution_count": null,
      "outputs": [
        {
          "output_type": "stream",
          "name": "stdout",
          "text": [
            "[[3.4641 0.    ]\n",
            " [0.     3.1623]]\n"
          ]
        }
      ]
    },
    {
      "cell_type": "code",
      "source": [
        "#Verification of SVD original rectangular MAtrix\n",
        "res = np.dot (V,sigmaMatrix_extended)\n",
        "recreateA = np.dot(res,UStar)\n",
        "print( '\\nREcreated Matrix A \\n',recreateA)\n",
        "print('\\nOriginal Matrix A \\n', A)\n",
        "print()"
      ],
      "metadata": {
        "colab": {
          "base_uri": "https://localhost:8080/"
        },
        "id": "cU_G9BdkTJgr",
        "outputId": "c7cbd705-f41c-4fd1-90aa-6e138f437788"
      },
      "execution_count": null,
      "outputs": [
        {
          "output_type": "stream",
          "name": "stdout",
          "text": [
            "\n",
            "REcreated Matrix A \n",
            " [[ 3.  1.  1.]\n",
            " [-1.  3.  1.]]\n",
            "\n",
            "Original Matrix A \n",
            " [[ 3  1  1]\n",
            " [-1  3  1]]\n",
            "\n"
          ]
        }
      ]
    },
    {
      "cell_type": "code",
      "source": [
        "#rectangal matrix B\n",
        "#STEP BY STEP\n",
        "import numpy as np\n",
        "#A = np.array([[3, 1, 1],[-1,3,1]])\n",
        "A = np.array ([[1, 1],[0, 1],[-1, 1]])\n",
        "print(A)"
      ],
      "metadata": {
        "colab": {
          "base_uri": "https://localhost:8080/"
        },
        "id": "b_RxPnvKT3C-",
        "outputId": "8ab3aeba-70f1-4520-a700-8a66b6f9742a"
      },
      "execution_count": null,
      "outputs": [
        {
          "output_type": "stream",
          "name": "stdout",
          "text": [
            "[[ 1  1]\n",
            " [ 0  1]\n",
            " [-1  1]]\n"
          ]
        }
      ]
    },
    {
      "cell_type": "code",
      "source": [
        "#compute AtA and AAT  to get Square\n",
        "ATA= np.dot(A.T,A)\n",
        "AAT = np.dot(A,A.T)\n",
        "print('ATA')\n",
        "print(ATA)\n",
        "\n",
        "print('AAT')\n",
        "print(AAT)"
      ],
      "metadata": {
        "colab": {
          "base_uri": "https://localhost:8080/"
        },
        "id": "7nEUcFq7T3Fp",
        "outputId": "5a57d7e9-913d-4a9b-eb14-01ee0146032e"
      },
      "execution_count": null,
      "outputs": [
        {
          "output_type": "stream",
          "name": "stdout",
          "text": [
            "ATA\n",
            "[[2 0]\n",
            " [0 3]]\n",
            "AAT\n",
            "[[2 1 0]\n",
            " [1 1 1]\n",
            " [0 1 2]]\n"
          ]
        }
      ]
    },
    {
      "cell_type": "code",
      "source": [
        "from scipy.linalg import eig\n",
        "#compute Eigen vectors and values of ATA\n",
        "\n",
        "# Assuming ATA is defined earlier in your code\n",
        "values, vectors = eig(ATA)\n",
        "print()\n",
        "print(values)\n",
        "print()\n",
        "print(vectors)\n"
      ],
      "metadata": {
        "colab": {
          "base_uri": "https://localhost:8080/"
        },
        "id": "0jN121k8VQYG",
        "outputId": "f95ddb29-7a6d-46c4-de41-78a6dcdae44a"
      },
      "execution_count": null,
      "outputs": [
        {
          "output_type": "stream",
          "name": "stdout",
          "text": [
            "\n",
            "[2.+0.j 3.+0.j]\n",
            "\n",
            "[[1. 0.]\n",
            " [0. 1.]]\n"
          ]
        }
      ]
    },
    {
      "cell_type": "code",
      "source": [
        "#decompose of ATA again\n",
        "# A = P*D*Transpose(P)\n",
        "# is matrix columns are eigien vectors of A and D i diagonal matrix of eigen values of A along the diagonal\n",
        "\n",
        "r= np.dot(vectors, np.diag(values))\n",
        "recreated = np.dot(r,vectors.T)\n",
        "print('REcreated Matrix =')\n",
        "print('Eigen Vectors * Eigen Vlues * Transpose(Eigen Vectors)')\n",
        "print(recreated)\n",
        "print()\n",
        "print('Original Matrix =\\n',ATA)\n"
      ],
      "metadata": {
        "colab": {
          "base_uri": "https://localhost:8080/"
        },
        "id": "IdYV6exHVQam",
        "outputId": "3086a40d-f93e-4c42-ea0e-6541437bc892"
      },
      "execution_count": null,
      "outputs": [
        {
          "output_type": "stream",
          "name": "stdout",
          "text": [
            "REcreated Matrix =\n",
            "Eigen Vectors * Eigen Vlues * Transpose(Eigen Vectors)\n",
            "[[2.+0.j 0.+0.j]\n",
            " [0.+0.j 3.+0.j]]\n",
            "\n",
            "Original Matrix =\n",
            " [[2 0]\n",
            " [0 3]]\n"
          ]
        }
      ]
    },
    {
      "cell_type": "code",
      "source": [
        "#Compute Eigen vector and value AAT\n",
        "values, vectors= eig(AAT)\n",
        "\n",
        "print()\n",
        "print(values)\n",
        "print()\n",
        "print(vectors)"
      ],
      "metadata": {
        "colab": {
          "base_uri": "https://localhost:8080/"
        },
        "id": "uQ4WdtpdVQdH",
        "outputId": "d43e32f3-35dc-40f7-dc29-d1aeed396824"
      },
      "execution_count": null,
      "outputs": [
        {
          "output_type": "stream",
          "name": "stdout",
          "text": [
            "\n",
            "[-0.+0.j  2.+0.j  3.+0.j]\n",
            "\n",
            "[[ 0.4082  0.7071  0.5774]\n",
            " [-0.8165  0.      0.5774]\n",
            " [ 0.4082 -0.7071  0.5774]]\n"
          ]
        }
      ]
    },
    {
      "cell_type": "code",
      "source": [
        "#decompose AAT\n",
        "\n",
        "r= np.dot(vectors, np.diag(values))\n",
        "recreated = np.dot(r,vectors.T)\n",
        "print('REcreated Matrix =')\n",
        "print('Eigen Vectors * Eigen Vlues * Transpose(Eigen Vectors)')\n",
        "print(recreated)\n",
        "print()\n",
        "print('Original Matrix =\\n',AAT)"
      ],
      "metadata": {
        "colab": {
          "base_uri": "https://localhost:8080/"
        },
        "id": "8qzLWyUnVQfY",
        "outputId": "00e52abf-a9dc-4424-94f7-406e1ca06eb7"
      },
      "execution_count": null,
      "outputs": [
        {
          "output_type": "stream",
          "name": "stdout",
          "text": [
            "REcreated Matrix =\n",
            "Eigen Vectors * Eigen Vlues * Transpose(Eigen Vectors)\n",
            "[[2.+0.j 1.+0.j 0.+0.j]\n",
            " [1.+0.j 1.+0.j 1.+0.j]\n",
            " [0.+0.j 1.+0.j 2.+0.j]]\n",
            "\n",
            "Original Matrix =\n",
            " [[2 1 0]\n",
            " [1 1 1]\n",
            " [0 1 2]]\n"
          ]
        }
      ]
    },
    {
      "cell_type": "code",
      "source": [
        "import numpy as np\n",
        "from scipy.linalg import eig\n",
        "\n",
        "# Compute AAT\n",
        "AAT = np.dot(A, A.T)\n",
        "\n",
        "# Compute eigenvalues and eigenvectors of AAT\n",
        "values, vectors = eig(AAT)\n",
        "\n",
        "# Reconstruct AAT\n",
        "reconstructed = np.dot(np.dot(vectors, np.diag(values)), np.linalg.inv(vectors))\n",
        "\n",
        "# Display the results\n",
        "print(\"Reconstructed Matrix:\")\n",
        "print(reconstructed)\n",
        "print(\"\\nOriginal Matrix (AAT):\")\n",
        "print(AAT)\n"
      ],
      "metadata": {
        "colab": {
          "base_uri": "https://localhost:8080/"
        },
        "id": "pfJr0veYXFtA",
        "outputId": "c75558be-cc82-4828-a2a8-a52591b68fa3"
      },
      "execution_count": null,
      "outputs": [
        {
          "output_type": "stream",
          "name": "stdout",
          "text": [
            "Reconstructed Matrix:\n",
            "[[ 2.+0.j  1.+0.j  0.+0.j]\n",
            " [ 1.+0.j  1.+0.j  1.+0.j]\n",
            " [-0.+0.j  1.+0.j  2.+0.j]]\n",
            "\n",
            "Original Matrix (AAT):\n",
            "[[2 1 0]\n",
            " [1 1 1]\n",
            " [0 1 2]]\n"
          ]
        }
      ]
    },
    {
      "cell_type": "code",
      "source": [],
      "metadata": {
        "id": "V1U5OaBiXGjM"
      },
      "execution_count": null,
      "outputs": []
    },
    {
      "cell_type": "code",
      "source": [
        "#compute SVD of REctangle matrix\n",
        "np.set_printoptions( precision = 4, suppress=True)\n",
        "from scipy.linalg import svd\n"
      ],
      "metadata": {
        "id": "JaRGlVAwVjiw"
      },
      "execution_count": null,
      "outputs": []
    },
    {
      "cell_type": "code",
      "source": [
        "V, Sigma, UStar = svd (A)\n",
        "print(V, \"\\n\\n\", Sigma, \"\\n\\n\", UStar)\n"
      ],
      "metadata": {
        "colab": {
          "base_uri": "https://localhost:8080/"
        },
        "id": "7ibRXnNnVjlM",
        "outputId": "d0032083-9b4d-4a8a-afa7-d23908276c7a"
      },
      "execution_count": null,
      "outputs": [
        {
          "output_type": "stream",
          "name": "stdout",
          "text": [
            "[[-0.5774 -0.7071  0.4082]\n",
            " [-0.5774  0.     -0.8165]\n",
            " [-0.5774  0.7071  0.4082]] \n",
            "\n",
            " [1.7321 1.4142] \n",
            "\n",
            " [[-0. -1.]\n",
            " [-1. -0.]]\n"
          ]
        }
      ]
    },
    {
      "cell_type": "code",
      "source": [
        "#computing back to the orgiginal matrix back\n",
        "\n",
        "sigmaMatrix = np.diag(Sigma)\n",
        "print('Sigma Matrix \\n', sigmaMatrix)"
      ],
      "metadata": {
        "colab": {
          "base_uri": "https://localhost:8080/"
        },
        "id": "4NBr7D6_VjnJ",
        "outputId": "96974db3-1b43-49bd-e0f0-45c9779f136e"
      },
      "execution_count": null,
      "outputs": [
        {
          "output_type": "stream",
          "name": "stdout",
          "text": [
            "Sigma Matrix \n",
            " [[1.7321 0.    ]\n",
            " [0.     1.4142]]\n"
          ]
        }
      ]
    },
    {
      "cell_type": "code",
      "source": [
        "#apply zeros to get rectangular matrix-tricks\n",
        "z= np.zeros((2,1))\n",
        "sigmaMatrix_extended = np.hstack((sigmaMatrix,z))\n",
        "print(sigmaMatrix)\n"
      ],
      "metadata": {
        "colab": {
          "base_uri": "https://localhost:8080/"
        },
        "id": "OV9MAt5wVQhm",
        "outputId": "9ecb9985-34dc-4055-a83d-e4e3233dcb42"
      },
      "execution_count": null,
      "outputs": [
        {
          "output_type": "stream",
          "name": "stdout",
          "text": [
            "[[1.7321 0.    ]\n",
            " [0.     1.4142]]\n"
          ]
        }
      ]
    },
    {
      "cell_type": "code",
      "source": [
        "#Short version No AAT or ATA\n",
        "import numpy as np\n",
        "from scipy.linalg import svd\n",
        "\n",
        "A = np.array([[1, 1],\n",
        "              [0, 1],\n",
        "              [-1, 1]])\n",
        "\n",
        "# Compute SVD\n",
        "U, Sigma, Vt = svd(A)\n",
        "\n",
        "# Extend Sigma to make it rectangular\n",
        "z = np.zeros((2, 1))\n",
        "sigmaMatrix_extended = np.hstack((np.diag(Sigma), z))\n",
        "\n",
        "# Verification of SVD\n",
        "res = np.dot(Vt.T, sigmaMatrix_extended)\n",
        "recreateA = np.dot(res, U.T)\n",
        "\n",
        "# Display the results\n",
        "print(\"Recreated Matrix A:\")\n",
        "print(recreateA)\n",
        "print(\"\\nOriginal Matrix A:\")\n",
        "print(A)\n"
      ],
      "metadata": {
        "colab": {
          "base_uri": "https://localhost:8080/"
        },
        "id": "sbGPeavwYIQR",
        "outputId": "9fa1aefe-60af-401d-8b6f-a9b46c2a5e63"
      },
      "execution_count": null,
      "outputs": [
        {
          "output_type": "stream",
          "name": "stdout",
          "text": [
            "Recreated Matrix A:\n",
            "[[ 1.  0. -1.]\n",
            " [ 1.  1.  1.]]\n",
            "\n",
            "Original Matrix A:\n",
            "[[ 1  1]\n",
            " [ 0  1]\n",
            " [-1  1]]\n"
          ]
        }
      ]
    },
    {
      "cell_type": "code",
      "source": [
        "import numpy as np\n",
        "from scipy.linalg import svd\n",
        "\n",
        "A = np.array([[1, 1],\n",
        "              [0, 1],\n",
        "              [-1, 1]])\n",
        "\n",
        "# Compute SVD\n",
        "V, Sigma, UStar = svd(A)\n",
        "print (V, \"\\n\\n\", Sigma, \"\\n\\n\", UStar)\n"
      ],
      "metadata": {
        "colab": {
          "base_uri": "https://localhost:8080/"
        },
        "id": "pUdUfehrRAgP",
        "outputId": "28398148-d2a3-48d6-83ce-5aa518082a60"
      },
      "execution_count": null,
      "outputs": [
        {
          "output_type": "stream",
          "name": "stdout",
          "text": [
            "[[-0.57735027 -0.70710678  0.40824829]\n",
            " [-0.57735027  0.         -0.81649658]\n",
            " [-0.57735027  0.70710678  0.40824829]] \n",
            "\n",
            " [1.73205081 1.41421356] \n",
            "\n",
            " [[-0. -1.]\n",
            " [-1. -0.]]\n"
          ]
        }
      ]
    },
    {
      "cell_type": "code",
      "source": [
        "\n",
        "sigmaMatrix = np.diag(Sigma)\n",
        "print(sigmaMatrix)\n",
        "\n",
        "# Extend Sigma to make it rectangular\n",
        "z = np.zeros((1, 2))\n",
        "\n",
        "print()\n",
        "#####\n",
        "\n",
        "sigmaMatrix_extended = np.vstack((np.diag(Sigma), z))\n",
        "print(sigmaMatrix)\n"
      ],
      "metadata": {
        "colab": {
          "base_uri": "https://localhost:8080/"
        },
        "id": "UscGeU99RUJg",
        "outputId": "5dec1880-9558-4a9e-8503-a9a38dadc6fb"
      },
      "execution_count": null,
      "outputs": [
        {
          "output_type": "stream",
          "name": "stdout",
          "text": [
            "[[1.73205081 0.        ]\n",
            " [0.         1.41421356]]\n",
            "\n",
            "[[1.73205081 0.        ]\n",
            " [0.         1.41421356]]\n"
          ]
        }
      ]
    },
    {
      "cell_type": "code",
      "source": [
        "#SVD creation\n",
        "# Verification of SVD\n",
        "res = np.dot(V, sigmaMatrix_extended)\n",
        "recreated = np.dot(res, UStar)\n",
        "\n",
        "# Display the results\n",
        "print(\"Recreated Matrix =\")\n",
        "print(recreated)\n",
        "print(\"\\nOriginal Matrix \\n\", A)\n"
      ],
      "metadata": {
        "colab": {
          "base_uri": "https://localhost:8080/"
        },
        "id": "2kDItt30SQQU",
        "outputId": "d6525088-8a8d-4328-eeb2-f4417ee30b91"
      },
      "execution_count": null,
      "outputs": [
        {
          "output_type": "stream",
          "name": "stdout",
          "text": [
            "Recreated Matrix =\n",
            "[[ 1.  1.]\n",
            " [ 0.  1.]\n",
            " [-1.  1.]]\n",
            "\n",
            "Original Matrix \n",
            " [[ 1  1]\n",
            " [ 0  1]\n",
            " [-1  1]]\n"
          ]
        }
      ]
    },
    {
      "cell_type": "code",
      "source": [
        "#Verification of SVD original rectangular MAtrix\n",
        "# all togheter\n",
        "\n",
        "\n",
        "#rectangal matrix B\n",
        "import numpy as np\n",
        "#A = np.array([[3, 1, 1],[-1,3,1]])\n",
        "A = np.array ([[1, 1],[0, 1],[-1, 1]])\n",
        "print(A)\n",
        "\n",
        "\n",
        "#compute AtA and AAT  to get Square\n",
        "ATA= np.dot(A.T,A)\n",
        "AAT = np.dot(A,A.T)\n",
        "print('ATA')\n",
        "print(ATA)\n",
        "\n",
        "print('AAT')\n",
        "print(AAT)\n",
        "\n",
        "\n",
        "from scipy.linalg import eig\n",
        "#compute Eigen vectors and values of ATA\n",
        "\n",
        "# Assuming ATA is defined earlier in your code\n",
        "values, vectors = eig(ATA)\n",
        "print()\n",
        "print(values)\n",
        "print()\n",
        "print(vectors)\n",
        "\n",
        "#decopm ATA\n",
        "\n",
        "r= np.dot(vectors, np.diag(values))\n",
        "recreated = np.dot(r,vectors.T)\n",
        "print('REcreated Matrix =')\n",
        "print('Eigen Vectors * Eigen Vlues * Transpose(Eigen Vectors)')\n",
        "print(recreated)\n",
        "print()\n",
        "print('Original Matrix =\\n',ATA)\n",
        "\n",
        "\n",
        "#Compute Eigen vector and value AAT\n",
        "values, vectors= eig(AAT)\n",
        "\n",
        "print()\n",
        "print(values)\n",
        "print()\n",
        "print(vectors)\n",
        "\n",
        "#decompose AAT\n",
        "\n",
        "r= np.dot(vectors, np.diag(values))\n",
        "recreated = np.dot(r,vectors.T)\n",
        "print('REcreated Matrix =')\n",
        "print('Eigen Vectors * Eigen Vlues * Transpose(Eigen Vectors)')\n",
        "print(recreated)\n",
        "print()\n",
        "print('Original Matrix =\\n',AAT)\n",
        "\n",
        "\n",
        "#compute SVD of REctangle matrix\n",
        "np.set_printoptions( precision = 4, suppress=True)\n",
        "from scipy.linalg import svd\n",
        "\n",
        "\n",
        "V, Sigma, UStar = svd (A)\n",
        "print(V, \"\\n\\n\", Sigma, \"\\n\\n\", UStar)\n",
        "\n",
        "sigmaMatrix = np.diag(Sigma)\n",
        "print('Sigma MAtrix \\n', sigmaMatrix)\n",
        "\n",
        "\n",
        "sigmaMatrix = np.diag(Sigma)\n",
        "print(sigmaMatrix)\n",
        "\n",
        "# Extend Sigma to make it rectangular\n",
        "z = np.zeros((1, 2))\n",
        "\n",
        "print()\n",
        "#####\n",
        "\n",
        "sigmaMatrix_extended = np.vstack((np.diag(Sigma), z))\n",
        "print(sigmaMatrix)\n",
        "\n",
        "\n",
        "res = np.dot(V,sigmaMatrix_extended)\n",
        "print(res)\n",
        "recreateA = np.dot(res,UStar)\n",
        "print( '\\nREcreated Matrix A \\n',recreateA)\n",
        "print('\\nOriginal Matrix A \\n', A)\n",
        "print()"
      ],
      "metadata": {
        "colab": {
          "base_uri": "https://localhost:8080/"
        },
        "id": "VejyzmBZVQlA",
        "outputId": "f82f379b-98f2-4db4-dabc-ffc801810a2f"
      },
      "execution_count": null,
      "outputs": [
        {
          "output_type": "stream",
          "name": "stdout",
          "text": [
            "[[ 1  1]\n",
            " [ 0  1]\n",
            " [-1  1]]\n",
            "ATA\n",
            "[[2 0]\n",
            " [0 3]]\n",
            "AAT\n",
            "[[2 1 0]\n",
            " [1 1 1]\n",
            " [0 1 2]]\n",
            "\n",
            "[2.+0.j 3.+0.j]\n",
            "\n",
            "[[1. 0.]\n",
            " [0. 1.]]\n",
            "REcreated Matrix =\n",
            "Eigen Vectors * Eigen Vlues * Transpose(Eigen Vectors)\n",
            "[[2.+0.j 0.+0.j]\n",
            " [0.+0.j 3.+0.j]]\n",
            "\n",
            "Original Matrix =\n",
            " [[2 0]\n",
            " [0 3]]\n",
            "\n",
            "[-2.22044605e-16+0.j  2.00000000e+00+0.j  3.00000000e+00+0.j]\n",
            "\n",
            "[[ 4.08248290e-01  7.07106781e-01  5.77350269e-01]\n",
            " [-8.16496581e-01  5.52174535e-16  5.77350269e-01]\n",
            " [ 4.08248290e-01 -7.07106781e-01  5.77350269e-01]]\n",
            "REcreated Matrix =\n",
            "Eigen Vectors * Eigen Vlues * Transpose(Eigen Vectors)\n",
            "[[2.00000000e+00+0.j 1.00000000e+00+0.j 7.18190135e-17+0.j]\n",
            " [1.00000000e+00+0.j 1.00000000e+00+0.j 1.00000000e+00+0.j]\n",
            " [7.18190135e-17+0.j 1.00000000e+00+0.j 2.00000000e+00+0.j]]\n",
            "\n",
            "Original Matrix =\n",
            " [[2 1 0]\n",
            " [1 1 1]\n",
            " [0 1 2]]\n",
            "[[-0.5774 -0.7071  0.4082]\n",
            " [-0.5774  0.     -0.8165]\n",
            " [-0.5774  0.7071  0.4082]] \n",
            "\n",
            " [1.7321 1.4142] \n",
            "\n",
            " [[-0. -1.]\n",
            " [-1. -0.]]\n",
            "Sigma MAtrix \n",
            " [[1.7321 0.    ]\n",
            " [0.     1.4142]]\n",
            "[[1.7321 0.    ]\n",
            " [0.     1.4142]]\n",
            "\n",
            "[[1.7321 0.    ]\n",
            " [0.     1.4142]]\n",
            "[[-1. -1.]\n",
            " [-1.  0.]\n",
            " [-1.  1.]]\n",
            "\n",
            "REcreated Matrix A \n",
            " [[ 1.  1.]\n",
            " [ 0.  1.]\n",
            " [-1.  1.]]\n",
            "\n",
            "Original Matrix A \n",
            " [[ 1  1]\n",
            " [ 0  1]\n",
            " [-1  1]]\n",
            "\n"
          ]
        }
      ]
    },
    {
      "cell_type": "code",
      "source": [
        "#SHORT VERSION\n",
        "import numpy as np\n",
        "from scipy.linalg import eig\n",
        "\n",
        "A = np.array([[1, 1],\n",
        "              [0, 1],\n",
        "              [-1, 1]])\n",
        "\n",
        "# Compute AAT\n",
        "AAT = np.dot(A, A.T)\n",
        "\n",
        "# Compute eigenvalues and eigenvectors\n",
        "values, vectors = eig(AAT)\n",
        "\n",
        "# Reconstruct the original matrix AAT\n",
        "reconstructed_AAT = np.dot(np.dot(vectors, np.diag(values)), vectors.T)\n",
        "\n",
        "# Display the results\n",
        "print('Reconstructed Matrix:')\n",
        "print(reconstructed_AAT)\n",
        "print('\\nOriginal Matrix:')\n",
        "print(AAT)\n"
      ],
      "metadata": {
        "colab": {
          "base_uri": "https://localhost:8080/"
        },
        "id": "Ed5oLO2TT3JP",
        "outputId": "693b3d78-d43d-44f3-cf3e-1e015372ed9f"
      },
      "execution_count": null,
      "outputs": [
        {
          "output_type": "stream",
          "name": "stdout",
          "text": [
            "Reconstructed Matrix:\n",
            "[[2.+0.j 1.+0.j 0.+0.j]\n",
            " [1.+0.j 1.+0.j 1.+0.j]\n",
            " [0.+0.j 1.+0.j 2.+0.j]]\n",
            "\n",
            "Original Matrix:\n",
            "[[2 1 0]\n",
            " [1 1 1]\n",
            " [0 1 2]]\n"
          ]
        }
      ]
    },
    {
      "cell_type": "code",
      "source": [
        "# Using the Singular Value Decomposition (SVD) principals, perform the Latent Semantics Analysis\n",
        "# (LSA) of the following 6 documents. Divide these documents into 2 different topics.\n",
        "\n",
        "#1. 'runs',\n",
        "#2. 'runs pitcher innings',\n",
        "#3. 'pitcher',\n",
        "#4. 'touchdown',\n",
        "#5. 'quarterback',\n",
        "#6. 'touchdown quarterback'\n",
        "#Use the following 2 libraries to solve this problem.\n",
        "# from sklearn.feature_extraction.text import CountVectorizer\n",
        "\n",
        "# from sklearn.decomposition import TruncatedSVD"
      ],
      "metadata": {
        "id": "0AEEPVUqcRJj"
      },
      "execution_count": null,
      "outputs": []
    },
    {
      "cell_type": "code",
      "source": [
        "#load the libraries\n",
        "import pandas as pd\n",
        "import numpy as np\n",
        "\n",
        "np.set_printoptions(precision=4, suppress=True)\n",
        "from scipy import linalg as lg\n",
        "from scipy.linalg import svd\n",
        "#######################################\n",
        "\n",
        "from sklearn.feature_extraction.text import CountVectorizer\n",
        "from sklearn.decomposition import TruncatedSVD\n",
        "\n",
        "\n",
        "vectorizer = CountVectorizer()\n",
        "\n",
        "\n",
        "\n"
      ],
      "metadata": {
        "id": "BbH-lIBpXG94"
      },
      "execution_count": 1,
      "outputs": []
    },
    {
      "cell_type": "code",
      "source": [
        "from sklearn.feature_extraction.text import CountVectorizer\n",
        "from sklearn.decomposition import TruncatedSVD\n",
        "\n",
        "# Define the documents 6 documents\n",
        "documents = [\n",
        "    'runs',\n",
        "    'runs pitcher innings',\n",
        "    'pitcher',\n",
        "    'touchdown',\n",
        "    'quarterback',\n",
        "    'touchdown quarterback'\n",
        "]\n",
        "print(documents)\n",
        "\n"
      ],
      "metadata": {
        "colab": {
          "base_uri": "https://localhost:8080/"
        },
        "id": "_BZSNEsAbbLc",
        "outputId": "ecfd9231-22bb-4e8a-bd52-0a704394246f"
      },
      "execution_count": 2,
      "outputs": [
        {
          "output_type": "stream",
          "name": "stdout",
          "text": [
            "['runs', 'runs pitcher innings', 'pitcher', 'touchdown', 'quarterback', 'touchdown quarterback']\n"
          ]
        }
      ]
    },
    {
      "cell_type": "code",
      "source": [
        "#Create Bag of words with countVectorizer\n",
        "\n",
        "bag_of_words = vectorizer.fit_transform(documents)\n",
        "print(bag_of_words)"
      ],
      "metadata": {
        "colab": {
          "base_uri": "https://localhost:8080/"
        },
        "id": "4KsHrZDqt_5F",
        "outputId": "89dc7076-9059-44c3-e4ab-9bf8dc9bf407"
      },
      "execution_count": 3,
      "outputs": [
        {
          "output_type": "stream",
          "name": "stdout",
          "text": [
            "  (0, 3)\t1\n",
            "  (1, 3)\t1\n",
            "  (1, 1)\t1\n",
            "  (1, 0)\t1\n",
            "  (2, 1)\t1\n",
            "  (3, 4)\t1\n",
            "  (4, 2)\t1\n",
            "  (5, 4)\t1\n",
            "  (5, 2)\t1\n"
          ]
        }
      ]
    },
    {
      "cell_type": "code",
      "source": [
        "\n",
        "#create the vector for each of the docs using pd to display - Document vectors\n",
        "# take transponse of that witll be - Word vectors\n",
        "# these are two matrices that we take the SVD of Doc VEC and Word VEC\n",
        "\n",
        "import pandas as pd\n",
        "df = pd.DataFrame(bag_of_words.toarray(), columns = vectorizer.get_feature_names_out())\n",
        "print(df)\n"
      ],
      "metadata": {
        "colab": {
          "base_uri": "https://localhost:8080/"
        },
        "id": "5ivkA69FsJwa",
        "outputId": "5417dde0-b5e7-400b-94a8-758e9b0db650"
      },
      "execution_count": 4,
      "outputs": [
        {
          "output_type": "stream",
          "name": "stdout",
          "text": [
            "   innings  pitcher  quarterback  runs  touchdown\n",
            "0        0        0            0     1          0\n",
            "1        1        1            0     1          0\n",
            "2        0        1            0     0          0\n",
            "3        0        0            0     0          1\n",
            "4        0        0            1     0          0\n",
            "5        0        0            1     0          1\n"
          ]
        }
      ]
    },
    {
      "cell_type": "code",
      "source": [
        "#word vect\n",
        "df.T"
      ],
      "metadata": {
        "colab": {
          "base_uri": "https://localhost:8080/",
          "height": 206
        },
        "id": "32TGdr4rsJz7",
        "outputId": "e0edad43-d3cd-481f-8389-2c8a3e81bd13"
      },
      "execution_count": 5,
      "outputs": [
        {
          "output_type": "execute_result",
          "data": {
            "text/plain": [
              "             0  1  2  3  4  5\n",
              "innings      0  1  0  0  0  0\n",
              "pitcher      0  1  1  0  0  0\n",
              "quarterback  0  0  0  0  1  1\n",
              "runs         1  1  0  0  0  0\n",
              "touchdown    0  0  0  1  0  1"
            ],
            "text/html": [
              "\n",
              "  <div id=\"df-53667507-b034-453f-a9f9-3bca33d6d580\" class=\"colab-df-container\">\n",
              "    <div>\n",
              "<style scoped>\n",
              "    .dataframe tbody tr th:only-of-type {\n",
              "        vertical-align: middle;\n",
              "    }\n",
              "\n",
              "    .dataframe tbody tr th {\n",
              "        vertical-align: top;\n",
              "    }\n",
              "\n",
              "    .dataframe thead th {\n",
              "        text-align: right;\n",
              "    }\n",
              "</style>\n",
              "<table border=\"1\" class=\"dataframe\">\n",
              "  <thead>\n",
              "    <tr style=\"text-align: right;\">\n",
              "      <th></th>\n",
              "      <th>0</th>\n",
              "      <th>1</th>\n",
              "      <th>2</th>\n",
              "      <th>3</th>\n",
              "      <th>4</th>\n",
              "      <th>5</th>\n",
              "    </tr>\n",
              "  </thead>\n",
              "  <tbody>\n",
              "    <tr>\n",
              "      <th>innings</th>\n",
              "      <td>0</td>\n",
              "      <td>1</td>\n",
              "      <td>0</td>\n",
              "      <td>0</td>\n",
              "      <td>0</td>\n",
              "      <td>0</td>\n",
              "    </tr>\n",
              "    <tr>\n",
              "      <th>pitcher</th>\n",
              "      <td>0</td>\n",
              "      <td>1</td>\n",
              "      <td>1</td>\n",
              "      <td>0</td>\n",
              "      <td>0</td>\n",
              "      <td>0</td>\n",
              "    </tr>\n",
              "    <tr>\n",
              "      <th>quarterback</th>\n",
              "      <td>0</td>\n",
              "      <td>0</td>\n",
              "      <td>0</td>\n",
              "      <td>0</td>\n",
              "      <td>1</td>\n",
              "      <td>1</td>\n",
              "    </tr>\n",
              "    <tr>\n",
              "      <th>runs</th>\n",
              "      <td>1</td>\n",
              "      <td>1</td>\n",
              "      <td>0</td>\n",
              "      <td>0</td>\n",
              "      <td>0</td>\n",
              "      <td>0</td>\n",
              "    </tr>\n",
              "    <tr>\n",
              "      <th>touchdown</th>\n",
              "      <td>0</td>\n",
              "      <td>0</td>\n",
              "      <td>0</td>\n",
              "      <td>1</td>\n",
              "      <td>0</td>\n",
              "      <td>1</td>\n",
              "    </tr>\n",
              "  </tbody>\n",
              "</table>\n",
              "</div>\n",
              "    <div class=\"colab-df-buttons\">\n",
              "\n",
              "  <div class=\"colab-df-container\">\n",
              "    <button class=\"colab-df-convert\" onclick=\"convertToInteractive('df-53667507-b034-453f-a9f9-3bca33d6d580')\"\n",
              "            title=\"Convert this dataframe to an interactive table.\"\n",
              "            style=\"display:none;\">\n",
              "\n",
              "  <svg xmlns=\"http://www.w3.org/2000/svg\" height=\"24px\" viewBox=\"0 -960 960 960\">\n",
              "    <path d=\"M120-120v-720h720v720H120Zm60-500h600v-160H180v160Zm220 220h160v-160H400v160Zm0 220h160v-160H400v160ZM180-400h160v-160H180v160Zm440 0h160v-160H620v160ZM180-180h160v-160H180v160Zm440 0h160v-160H620v160Z\"/>\n",
              "  </svg>\n",
              "    </button>\n",
              "\n",
              "  <style>\n",
              "    .colab-df-container {\n",
              "      display:flex;\n",
              "      gap: 12px;\n",
              "    }\n",
              "\n",
              "    .colab-df-convert {\n",
              "      background-color: #E8F0FE;\n",
              "      border: none;\n",
              "      border-radius: 50%;\n",
              "      cursor: pointer;\n",
              "      display: none;\n",
              "      fill: #1967D2;\n",
              "      height: 32px;\n",
              "      padding: 0 0 0 0;\n",
              "      width: 32px;\n",
              "    }\n",
              "\n",
              "    .colab-df-convert:hover {\n",
              "      background-color: #E2EBFA;\n",
              "      box-shadow: 0px 1px 2px rgba(60, 64, 67, 0.3), 0px 1px 3px 1px rgba(60, 64, 67, 0.15);\n",
              "      fill: #174EA6;\n",
              "    }\n",
              "\n",
              "    .colab-df-buttons div {\n",
              "      margin-bottom: 4px;\n",
              "    }\n",
              "\n",
              "    [theme=dark] .colab-df-convert {\n",
              "      background-color: #3B4455;\n",
              "      fill: #D2E3FC;\n",
              "    }\n",
              "\n",
              "    [theme=dark] .colab-df-convert:hover {\n",
              "      background-color: #434B5C;\n",
              "      box-shadow: 0px 1px 3px 1px rgba(0, 0, 0, 0.15);\n",
              "      filter: drop-shadow(0px 1px 2px rgba(0, 0, 0, 0.3));\n",
              "      fill: #FFFFFF;\n",
              "    }\n",
              "  </style>\n",
              "\n",
              "    <script>\n",
              "      const buttonEl =\n",
              "        document.querySelector('#df-53667507-b034-453f-a9f9-3bca33d6d580 button.colab-df-convert');\n",
              "      buttonEl.style.display =\n",
              "        google.colab.kernel.accessAllowed ? 'block' : 'none';\n",
              "\n",
              "      async function convertToInteractive(key) {\n",
              "        const element = document.querySelector('#df-53667507-b034-453f-a9f9-3bca33d6d580');\n",
              "        const dataTable =\n",
              "          await google.colab.kernel.invokeFunction('convertToInteractive',\n",
              "                                                    [key], {});\n",
              "        if (!dataTable) return;\n",
              "\n",
              "        const docLinkHtml = 'Like what you see? Visit the ' +\n",
              "          '<a target=\"_blank\" href=https://colab.research.google.com/notebooks/data_table.ipynb>data table notebook</a>'\n",
              "          + ' to learn more about interactive tables.';\n",
              "        element.innerHTML = '';\n",
              "        dataTable['output_type'] = 'display_data';\n",
              "        await google.colab.output.renderOutput(dataTable, element);\n",
              "        const docLink = document.createElement('div');\n",
              "        docLink.innerHTML = docLinkHtml;\n",
              "        element.appendChild(docLink);\n",
              "      }\n",
              "    </script>\n",
              "  </div>\n",
              "\n",
              "\n",
              "<div id=\"df-aad44188-d6c7-4127-9c20-1bc00c2586b0\">\n",
              "  <button class=\"colab-df-quickchart\" onclick=\"quickchart('df-aad44188-d6c7-4127-9c20-1bc00c2586b0')\"\n",
              "            title=\"Suggest charts\"\n",
              "            style=\"display:none;\">\n",
              "\n",
              "<svg xmlns=\"http://www.w3.org/2000/svg\" height=\"24px\"viewBox=\"0 0 24 24\"\n",
              "     width=\"24px\">\n",
              "    <g>\n",
              "        <path d=\"M19 3H5c-1.1 0-2 .9-2 2v14c0 1.1.9 2 2 2h14c1.1 0 2-.9 2-2V5c0-1.1-.9-2-2-2zM9 17H7v-7h2v7zm4 0h-2V7h2v10zm4 0h-2v-4h2v4z\"/>\n",
              "    </g>\n",
              "</svg>\n",
              "  </button>\n",
              "\n",
              "<style>\n",
              "  .colab-df-quickchart {\n",
              "      --bg-color: #E8F0FE;\n",
              "      --fill-color: #1967D2;\n",
              "      --hover-bg-color: #E2EBFA;\n",
              "      --hover-fill-color: #174EA6;\n",
              "      --disabled-fill-color: #AAA;\n",
              "      --disabled-bg-color: #DDD;\n",
              "  }\n",
              "\n",
              "  [theme=dark] .colab-df-quickchart {\n",
              "      --bg-color: #3B4455;\n",
              "      --fill-color: #D2E3FC;\n",
              "      --hover-bg-color: #434B5C;\n",
              "      --hover-fill-color: #FFFFFF;\n",
              "      --disabled-bg-color: #3B4455;\n",
              "      --disabled-fill-color: #666;\n",
              "  }\n",
              "\n",
              "  .colab-df-quickchart {\n",
              "    background-color: var(--bg-color);\n",
              "    border: none;\n",
              "    border-radius: 50%;\n",
              "    cursor: pointer;\n",
              "    display: none;\n",
              "    fill: var(--fill-color);\n",
              "    height: 32px;\n",
              "    padding: 0;\n",
              "    width: 32px;\n",
              "  }\n",
              "\n",
              "  .colab-df-quickchart:hover {\n",
              "    background-color: var(--hover-bg-color);\n",
              "    box-shadow: 0 1px 2px rgba(60, 64, 67, 0.3), 0 1px 3px 1px rgba(60, 64, 67, 0.15);\n",
              "    fill: var(--button-hover-fill-color);\n",
              "  }\n",
              "\n",
              "  .colab-df-quickchart-complete:disabled,\n",
              "  .colab-df-quickchart-complete:disabled:hover {\n",
              "    background-color: var(--disabled-bg-color);\n",
              "    fill: var(--disabled-fill-color);\n",
              "    box-shadow: none;\n",
              "  }\n",
              "\n",
              "  .colab-df-spinner {\n",
              "    border: 2px solid var(--fill-color);\n",
              "    border-color: transparent;\n",
              "    border-bottom-color: var(--fill-color);\n",
              "    animation:\n",
              "      spin 1s steps(1) infinite;\n",
              "  }\n",
              "\n",
              "  @keyframes spin {\n",
              "    0% {\n",
              "      border-color: transparent;\n",
              "      border-bottom-color: var(--fill-color);\n",
              "      border-left-color: var(--fill-color);\n",
              "    }\n",
              "    20% {\n",
              "      border-color: transparent;\n",
              "      border-left-color: var(--fill-color);\n",
              "      border-top-color: var(--fill-color);\n",
              "    }\n",
              "    30% {\n",
              "      border-color: transparent;\n",
              "      border-left-color: var(--fill-color);\n",
              "      border-top-color: var(--fill-color);\n",
              "      border-right-color: var(--fill-color);\n",
              "    }\n",
              "    40% {\n",
              "      border-color: transparent;\n",
              "      border-right-color: var(--fill-color);\n",
              "      border-top-color: var(--fill-color);\n",
              "    }\n",
              "    60% {\n",
              "      border-color: transparent;\n",
              "      border-right-color: var(--fill-color);\n",
              "    }\n",
              "    80% {\n",
              "      border-color: transparent;\n",
              "      border-right-color: var(--fill-color);\n",
              "      border-bottom-color: var(--fill-color);\n",
              "    }\n",
              "    90% {\n",
              "      border-color: transparent;\n",
              "      border-bottom-color: var(--fill-color);\n",
              "    }\n",
              "  }\n",
              "</style>\n",
              "\n",
              "  <script>\n",
              "    async function quickchart(key) {\n",
              "      const quickchartButtonEl =\n",
              "        document.querySelector('#' + key + ' button');\n",
              "      quickchartButtonEl.disabled = true;  // To prevent multiple clicks.\n",
              "      quickchartButtonEl.classList.add('colab-df-spinner');\n",
              "      try {\n",
              "        const charts = await google.colab.kernel.invokeFunction(\n",
              "            'suggestCharts', [key], {});\n",
              "      } catch (error) {\n",
              "        console.error('Error during call to suggestCharts:', error);\n",
              "      }\n",
              "      quickchartButtonEl.classList.remove('colab-df-spinner');\n",
              "      quickchartButtonEl.classList.add('colab-df-quickchart-complete');\n",
              "    }\n",
              "    (() => {\n",
              "      let quickchartButtonEl =\n",
              "        document.querySelector('#df-aad44188-d6c7-4127-9c20-1bc00c2586b0 button');\n",
              "      quickchartButtonEl.style.display =\n",
              "        google.colab.kernel.accessAllowed ? 'block' : 'none';\n",
              "    })();\n",
              "  </script>\n",
              "</div>\n",
              "\n",
              "    </div>\n",
              "  </div>\n"
            ]
          },
          "metadata": {},
          "execution_count": 5
        }
      ]
    },
    {
      "cell_type": "code",
      "source": [
        "#computing cosine distance which is dot porduct of normalized vectors\n",
        "\n",
        "#computing distance between our documents\n",
        "# 1take document vectors and 2 normalize it, next 3 take a dot product of nomalized vect\n",
        " ###############################\n",
        " # Norm of a Vector\n",
        "\n",
        "def normalized (pt1):\n",
        "  return pt1 / np.linalg.norm(pt1)\n",
        "\n",
        "# Create Vectors for each document\n",
        "\n",
        "A= bag_of_words.toarray()[0]\n",
        "B= bag_of_words.toarray()[1]\n",
        "C= bag_of_words.toarray()[2]\n",
        "D= bag_of_words.toarray()[3]\n",
        "E= bag_of_words.toarray()[4]\n",
        "F= bag_of_words.toarray()[5]\n",
        "\n",
        "vectors = [A,B,C,D,E,F]\n",
        "print(vectors)\n"
      ],
      "metadata": {
        "colab": {
          "base_uri": "https://localhost:8080/"
        },
        "id": "IdZDKsqXvjBL",
        "outputId": "a4046859-81ab-4a82-baef-54e14de77c89"
      },
      "execution_count": 6,
      "outputs": [
        {
          "output_type": "stream",
          "name": "stdout",
          "text": [
            "[array([0, 0, 0, 1, 0]), array([1, 1, 0, 1, 0]), array([0, 1, 0, 0, 0]), array([0, 0, 0, 0, 1]), array([0, 0, 1, 0, 0]), array([0, 0, 1, 0, 1])]\n"
          ]
        }
      ]
    },
    {
      "cell_type": "code",
      "source": [
        "#create normalized vectors\n",
        "Anormalized = normalized(A)\n",
        "Bnormalized = normalized(B)\n",
        "Cnormalized = normalized(C)\n",
        "Dnormalized = normalized(D)\n",
        "Enormalized = normalized(E)\n",
        "Fnormalized = normalized(F)\n",
        "\n",
        "vectorsNormalized = [Anormalized, Bnormalized, Cnormalized,\n",
        "                     Dnormalized, Enormalized, Fnormalized]\n",
        "#################\n",
        "\n",
        "print(Anormalized, Bnormalized, Cnormalized, Dnormalized, Enormalized, Fnormalized)\n",
        "\n",
        "print('Vectors')\n",
        "print(vectors)\n",
        "print()\n",
        "print('Normalized Vectors')\n",
        "print(vectorsNormalized)\n"
      ],
      "metadata": {
        "colab": {
          "base_uri": "https://localhost:8080/"
        },
        "id": "oJ7ei8B1vjDV",
        "outputId": "4d54983a-8f65-4185-b573-d57b052e83bf"
      },
      "execution_count": 8,
      "outputs": [
        {
          "output_type": "stream",
          "name": "stdout",
          "text": [
            "[0. 0. 0. 1. 0.] [0.5774 0.5774 0.     0.5774 0.    ] [0. 1. 0. 0. 0.] [0. 0. 0. 0. 1.] [0. 0. 1. 0. 0.] [0.     0.     0.7071 0.     0.7071]\n",
            "Vectors\n",
            "[array([0, 0, 0, 1, 0]), array([1, 1, 0, 1, 0]), array([0, 1, 0, 0, 0]), array([0, 0, 0, 0, 1]), array([0, 0, 1, 0, 0]), array([0, 0, 1, 0, 1])]\n",
            "\n",
            "Normalized Vectors\n",
            "[array([0., 0., 0., 1., 0.]), array([0.5774, 0.5774, 0.    , 0.5774, 0.    ]), array([0., 1., 0., 0., 0.]), array([0., 0., 0., 0., 1.]), array([0., 0., 1., 0., 0.]), array([0.    , 0.    , 0.7071, 0.    , 0.7071])]\n"
          ]
        }
      ]
    },
    {
      "cell_type": "code",
      "source": [
        "# Q1 of problem 5\n",
        "\n",
        "\n",
        "# make a dot product a Cosine similarity matrix\n",
        "def cosine_Similarity (pt1, pt2):\n",
        "  return np.dot(pt1, pt2)\n",
        "#computing cosine similarity\n",
        "numDocu = len(documents)\n",
        "#print(numDocu)\n",
        "\n",
        "cosine_SimtMatrix = np.zeros((numDocu, numDocu))\n",
        "cosine_DistMatrix = np.zeros((numDocu, numDocu))\n",
        "\n",
        "\n",
        "#computing the distance from all the vectros to all the vectors\n",
        "\n",
        "for i in range (numDocu):\n",
        "  for j in range (numDocu):\n",
        "    cosine_SimtMatrix[i,j] = cosine_Similarity (\n",
        "        vectorsNormalized[i], vectorsNormalized[j])\n",
        "    cosine_DistMatrix[i,j] = 1-cosine_SimtMatrix[i,j]\n",
        "\n",
        "print('Cosine Similarity')\n",
        "print(cosine_SimtMatrix)\n",
        "\n",
        "print()\n",
        "print('Cosine Distance')\n",
        "print(cosine_DistMatrix)\n",
        "# these figures are not accurate becouse it is based on count vectrosizer # one more time will be computed after done SVD\n",
        "\n"
      ],
      "metadata": {
        "colab": {
          "base_uri": "https://localhost:8080/"
        },
        "id": "7AJZn-GhvjFv",
        "outputId": "25cccf94-cf1e-4e81-b5d3-f93b48707f5d"
      },
      "execution_count": 9,
      "outputs": [
        {
          "output_type": "stream",
          "name": "stdout",
          "text": [
            "Cosine Similarity\n",
            "[[1.     0.5774 0.     0.     0.     0.    ]\n",
            " [0.5774 1.     0.5774 0.     0.     0.    ]\n",
            " [0.     0.5774 1.     0.     0.     0.    ]\n",
            " [0.     0.     0.     1.     0.     0.7071]\n",
            " [0.     0.     0.     0.     1.     0.7071]\n",
            " [0.     0.     0.     0.7071 0.7071 1.    ]]\n",
            "\n",
            "Cosine Distance\n",
            "[[ 0.      0.4226  1.      1.      1.      1.    ]\n",
            " [ 0.4226 -0.      0.4226  1.      1.      1.    ]\n",
            " [ 1.      0.4226  0.      1.      1.      1.    ]\n",
            " [ 1.      1.      1.      0.      1.      0.2929]\n",
            " [ 1.      1.      1.      1.      0.      0.2929]\n",
            " [ 1.      1.      1.      0.2929  0.2929  0.    ]]\n"
          ]
        }
      ]
    },
    {
      "cell_type": "code",
      "source": [
        "#  Q2 of problem 5\n",
        "#computing TDM and DTM converting into an array from both are the same (of the count Vectorsizer)\n",
        "\n",
        "A_Word = bag_of_words.todense().T\n",
        "print(\"Term - Word - document Matrix - TDM\")\n",
        "print('some words x 6 Docu')\n",
        "print(A_Word)\n",
        "print()\n",
        "A_document = bag_of_words.todense()\n",
        "print(\"Document-Term Matrix - DTM\")\n",
        "print('6 docu x some words')\n",
        "print(A_document)\n",
        "print()\n"
      ],
      "metadata": {
        "colab": {
          "base_uri": "https://localhost:8080/"
        },
        "id": "oxrVny2qvjIT",
        "outputId": "7da36e9f-68a1-43f3-8343-dfb708739f58"
      },
      "execution_count": 10,
      "outputs": [
        {
          "output_type": "stream",
          "name": "stdout",
          "text": [
            "Term - Word - document Matrix - TDM\n",
            "some words x 6 Docu\n",
            "[[0 1 0 0 0 0]\n",
            " [0 1 1 0 0 0]\n",
            " [0 0 0 0 1 1]\n",
            " [1 1 0 0 0 0]\n",
            " [0 0 0 1 0 1]]\n",
            "\n",
            "Document-Term Matrix - DTM\n",
            "6 docu x some words\n",
            "[[0 0 0 1 0]\n",
            " [1 1 0 1 0]\n",
            " [0 1 0 0 0]\n",
            " [0 0 0 0 1]\n",
            " [0 0 1 0 0]\n",
            " [0 0 1 0 1]]\n",
            "\n"
          ]
        }
      ]
    },
    {
      "cell_type": "code",
      "source": [
        "########################\n",
        "# now SVD of both of these matrices\n",
        "\n",
        "# TDM or WDM\n",
        "#DTM\n",
        "\n",
        "#Starting TERM DOC MATRIX\n",
        "\n",
        "from scipy.linalg import  svd\n",
        "np.set_printoptions(precision=8, suppress= True)\n",
        "\n",
        "V, Sigma, UStar = svd (A_Word)\n",
        "print(V, \"\\n\\n\", Sigma, \"\\n\\n\", UStar)"
      ],
      "metadata": {
        "colab": {
          "base_uri": "https://localhost:8080/"
        },
        "id": "giwY79MZvjL0",
        "outputId": "8361a20a-4e32-4cc6-c7af-2a641642bc98"
      },
      "execution_count": 11,
      "outputs": [
        {
          "output_type": "stream",
          "name": "stdout",
          "text": [
            "[[ 0.45970084  0.         -0.          0.          0.88807383]\n",
            " [ 0.62796303  0.          0.70710678  0.         -0.32505758]\n",
            " [ 0.         -0.70710678  0.         -0.70710678  0.        ]\n",
            " [ 0.62796303  0.         -0.70710678  0.         -0.32505758]\n",
            " [ 0.         -0.70710678  0.          0.70710678  0.        ]] \n",
            "\n",
            " [1.93185165 1.73205081 1.         1.         0.51763809] \n",
            "\n",
            " [[ 0.32505758  0.88807383  0.32505758 -0.          0.          0.        ]\n",
            " [-0.         -0.          0.         -0.40824829 -0.40824829 -0.81649658]\n",
            " [-0.70710678  0.          0.70710678  0.          0.          0.        ]\n",
            " [-0.         -0.          0.          0.70710678 -0.70710678  0.        ]\n",
            " [-0.62796303  0.45970084 -0.62796303 -0.          0.          0.        ]\n",
            " [ 0.          0.          0.         -0.57735027 -0.57735027  0.57735027]]\n"
          ]
        }
      ]
    },
    {
      "cell_type": "code",
      "source": [
        "# Q3 of probelm 5\n",
        "#now taking two elements of Simga matrix means doing the truncation of this matrix\n",
        "\n",
        "#Truncation\n",
        "#taking out first two columnes of V matrix then take sigma matrix of only 2 eigien values and convert this to diagnal form\n",
        "\n",
        "\n",
        "sigma_signifant_num = 2\n",
        "Truncated_UMatrix = V [:,:sigma_signifant_num]\n",
        "\n",
        "print(Truncated_UMatrix)\n",
        "\n",
        "#since sigma is 1D have to convert into 2D  matrix using only first 2 values to get truncated full sigma matrix\n",
        "\n",
        "Truncated_SigmaMatrix = Sigma [:sigma_signifant_num]\n",
        "Truncated_Full_SigmaMatrix = np.diag(Truncated_SigmaMatrix)\n",
        "\n",
        "#################Then multiply together reduced size of TDM\n",
        "\n",
        "\n",
        "reduced_matrix_word = np.dot(Truncated_UMatrix, Truncated_Full_SigmaMatrix)\n",
        "print(reduced_matrix_word)\n"
      ],
      "metadata": {
        "colab": {
          "base_uri": "https://localhost:8080/"
        },
        "id": "AFe2VMUp19dz",
        "outputId": "ce8012b8-a1ac-438e-c263-ead512a25816"
      },
      "execution_count": 12,
      "outputs": [
        {
          "output_type": "stream",
          "name": "stdout",
          "text": [
            "[[ 0.45970084  0.        ]\n",
            " [ 0.62796303  0.        ]\n",
            " [ 0.         -0.70710678]\n",
            " [ 0.62796303  0.        ]\n",
            " [ 0.         -0.70710678]]\n",
            "[[ 0.88807383  0.        ]\n",
            " [ 1.21313142  0.        ]\n",
            " [ 0.         -1.22474487]\n",
            " [ 1.21313142  0.        ]\n",
            " [ 0.         -1.22474487]]\n"
          ]
        }
      ]
    },
    {
      "cell_type": "code",
      "source": [
        "#now to be on the safer side normalize these two vectors\n",
        "\n",
        "v0 = reduced_matrix_word[:,0]\n",
        "v1 = reduced_matrix_word[:,1]\n",
        "##################3\n",
        "reduced_matrix_word_norm0 = v0/lg.norm(v0)\n",
        "reduced_matrix_word_norm1 = v1/lg.norm(v1)\n",
        "\n",
        "###############333\n",
        "reduced_matrix_word_norm = np.vstack((\n",
        "    reduced_matrix_word_norm0,reduced_matrix_word_norm1)\n",
        "    ).T\n",
        "\n",
        "df = pd.DataFrame(reduced_matrix_word_norm,\n",
        "                   columns = [[\"Topic-1\", \"Topic-2\"]])\n",
        "\n",
        "print(df)"
      ],
      "metadata": {
        "colab": {
          "base_uri": "https://localhost:8080/"
        },
        "id": "8vAoX4lZ19gH",
        "outputId": "e4dbe14b-6026-4b51-b044-52a8ca095fce"
      },
      "execution_count": 15,
      "outputs": [
        {
          "output_type": "stream",
          "name": "stdout",
          "text": [
            "    Topic-1   Topic-2\n",
            "0  0.459701  0.000000\n",
            "1  0.627963  0.000000\n",
            "2  0.000000 -0.707107\n",
            "3  0.627963  0.000000\n",
            "4  0.000000 -0.707107\n"
          ]
        }
      ]
    },
    {
      "cell_type": "code",
      "source": [
        "# other choice to chose is to use Scikitlearn computes svd and truncates\n",
        "#here is some mistake becose it gives different answere that from above\n",
        "\n",
        "from sklearn.decomposition import TruncatedSVD\n",
        "sigma_signifant_num = 2\n",
        "\n",
        "array_as_array = np.asarray(bag_of_words.todense().T)\n",
        "\n",
        "svd = TruncatedSVD(n_components=sigma_signifant_num)\n",
        "lsa = svd.fit_transform(array_as_array)\n",
        "\n",
        "print(lsa)\n"
      ],
      "metadata": {
        "colab": {
          "base_uri": "https://localhost:8080/"
        },
        "id": "YY4h9wFj19iS",
        "outputId": "557f6a76-26d4-4b86-d762-836cad0a389f"
      },
      "execution_count": 16,
      "outputs": [
        {
          "output_type": "stream",
          "name": "stdout",
          "text": [
            "[[ 0.88807383  0.        ]\n",
            " [ 1.21313142  0.        ]\n",
            " [-0.          1.22474487]\n",
            " [ 1.21313142  0.        ]\n",
            " [-0.          1.22474487]]\n"
          ]
        }
      ]
    },
    {
      "cell_type": "code",
      "source": [
        "#Compute SVD of Document Term Matrix\n",
        "\n",
        "#SVD Document MAtrix\n",
        "from scipy.linalg import  svd\n",
        "np.set_printoptions(precision=8, suppress= True)\n",
        "\n",
        "V, Sigma, UStar = svd (A_document)\n",
        "print(V, \"\\n\\n\", Sigma, \"\\n\\n\", UStar)"
      ],
      "metadata": {
        "colab": {
          "base_uri": "https://localhost:8080/"
        },
        "id": "hKGxB-Pp19lu",
        "outputId": "bd09f939-57e3-4f7a-f1c5-f6cb27e409b4"
      },
      "execution_count": 17,
      "outputs": [
        {
          "output_type": "stream",
          "name": "stdout",
          "text": [
            "[[-0.32505758  0.         -0.70710678  0.          0.62796303  0.        ]\n",
            " [-0.88807383  0.          0.          0.         -0.45970084  0.        ]\n",
            " [-0.32505758  0.          0.70710678  0.          0.62796303  0.        ]\n",
            " [ 0.          0.40824829  0.         -0.70710678  0.         -0.57735027]\n",
            " [ 0.          0.40824829  0.          0.70710678  0.         -0.57735027]\n",
            " [ 0.          0.81649658  0.         -0.          0.          0.57735027]] \n",
            "\n",
            " [1.93185165 1.73205081 1.         1.         0.51763809] \n",
            "\n",
            " [[-0.45970084 -0.62796303  0.         -0.62796303 -0.        ]\n",
            " [-0.         -0.          0.70710678  0.          0.70710678]\n",
            " [ 0.          0.70710678  0.         -0.70710678  0.        ]\n",
            " [-0.         -0.          0.70710678  0.         -0.70710678]\n",
            " [-0.88807383  0.32505758 -0.          0.32505758 -0.        ]]\n"
          ]
        }
      ]
    },
    {
      "cell_type": "code",
      "source": [
        "#repeating the process now taking first to columns of v matrix and take take sigma matrix which we conver to a matrix form and multiply together truncated u matrix and sigma matrix\n",
        "\n",
        "\n",
        "sigma_signifant_num = 2\n",
        "Truncated_UMatrix = V [:,:sigma_signifant_num]\n",
        "\n",
        "print(Truncated_UMatrix)\n",
        "\n",
        "\n",
        "print()\n",
        "\n",
        "Truncated_SigmaMatrix = Sigma [:sigma_signifant_num]\n",
        "print(Truncated_SigmaMatrix)\n",
        "\n",
        "\n",
        "Truncated_Full_SigmaMatrix = np.diag(Truncated_SigmaMatrix)\n",
        "print(Truncated_Full_SigmaMatrix)\n",
        "\n",
        "#################Then multiply together reduced size of TDM\n",
        "\n",
        "print()\n",
        "\n",
        "reduced_matrix_document = np.dot(Truncated_UMatrix, Truncated_Full_SigmaMatrix)\n",
        "\n",
        "#New DTM\n",
        "\n",
        "print(reduced_matrix_document)\n",
        "\n",
        "#using this matrix if similaarity is computed the values are much mor accurate\n"
      ],
      "metadata": {
        "colab": {
          "base_uri": "https://localhost:8080/"
        },
        "id": "NHHVqt969uY9",
        "outputId": "fdae2f1b-e93e-4f4c-9930-610270f07d3a"
      },
      "execution_count": 18,
      "outputs": [
        {
          "output_type": "stream",
          "name": "stdout",
          "text": [
            "[[-0.32505758  0.        ]\n",
            " [-0.88807383  0.        ]\n",
            " [-0.32505758  0.        ]\n",
            " [ 0.          0.40824829]\n",
            " [ 0.          0.40824829]\n",
            " [ 0.          0.81649658]]\n",
            "\n",
            "[1.93185165 1.73205081]\n",
            "[[1.93185165 0.        ]\n",
            " [0.         1.73205081]]\n",
            "\n",
            "[[-0.62796303  0.        ]\n",
            " [-1.7156269   0.        ]\n",
            " [-0.62796303  0.        ]\n",
            " [ 0.          0.70710678]\n",
            " [ 0.          0.70710678]\n",
            " [ 0.          1.41421356]]\n"
          ]
        }
      ]
    },
    {
      "cell_type": "code",
      "source": [
        "# normalize the new document term matrix\n",
        "v0 = reduced_matrix_document[:,0]\n",
        "v1 = reduced_matrix_document[:,1]\n",
        "##################3\n",
        "reduced_matrix_document_norm0 = v0/lg.norm(v0)\n",
        "reduced_matrix_document_norm1 = v1/lg.norm(v1)\n",
        "\n",
        "###############333\n",
        "reduced_matrix_document_norm = np.vstack((\n",
        "    reduced_matrix_document_norm0,reduced_matrix_document_norm1)\n",
        "    ).T\n",
        "\n",
        "df = pd.DataFrame(reduced_matrix_document_norm,\n",
        "                   columns = [[\"Topic-1\", \"Topic-2\"]])\n",
        "\n",
        "print(df)"
      ],
      "metadata": {
        "colab": {
          "base_uri": "https://localhost:8080/"
        },
        "id": "Ey-zF45q9ubK",
        "outputId": "b0b77482-a034-4761-9985-61aa153cddf3"
      },
      "execution_count": 19,
      "outputs": [
        {
          "output_type": "stream",
          "name": "stdout",
          "text": [
            "    Topic-1   Topic-2\n",
            "0 -0.325058  0.000000\n",
            "1 -0.888074  0.000000\n",
            "2 -0.325058  0.000000\n",
            "3  0.000000  0.408248\n",
            "4  0.000000  0.408248\n",
            "5  0.000000  0.816497\n"
          ]
        }
      ]
    },
    {
      "cell_type": "code",
      "source": [
        "# other choice is to use Scikitlearn computes svd and truncates\n",
        "#here is some mistake because it gives different answer that from above\n",
        "\n",
        "from sklearn.decomposition import TruncatedSVD\n",
        "sigma_signifant_num = 2\n",
        "\n",
        "array_as_array = np.asarray(bag_of_words.todense())\n",
        "\n",
        "svd = TruncatedSVD(n_components=sigma_signifant_num)\n",
        "lsa = svd.fit_transform(array_as_array)\n",
        "\n",
        "\n",
        "print(lsa)\n"
      ],
      "metadata": {
        "id": "weiSFcqc9uef",
        "colab": {
          "base_uri": "https://localhost:8080/"
        },
        "outputId": "19dc1e20-2140-4fe6-d33a-e4e6e16c53b8"
      },
      "execution_count": 34,
      "outputs": [
        {
          "output_type": "stream",
          "name": "stdout",
          "text": [
            "[[ 0.62796303 -0.        ]\n",
            " [ 1.7156269  -0.        ]\n",
            " [ 0.62796303  0.        ]\n",
            " [ 0.          0.70710678]\n",
            " [ 0.          0.70710678]\n",
            " [ 0.          1.41421356]]\n"
          ]
        }
      ]
    },
    {
      "cell_type": "code",
      "source": [
        "# analysis by LSA Understanding\n",
        "#two goals dimention reduction and similarity is mor accurate\n",
        "### reduction of the matrix\n",
        "### taking new DTM and compute distances and compute similarity cosine\n",
        "\n",
        "#Create vectors of a NEW DTM\n",
        "\n",
        "import numpy as np\n",
        "# Create the vectors\n",
        "A= [-0.62796303, 0.0]\n",
        "B= [-1.7156269, 0.0]\n",
        "C= [-0.62796303, 0.0]\n",
        "D= [0.000000, 0.70710678]\n",
        "E= [0.000000, 0.70710678]\n",
        "F= [0.000000, 1.41421356]\n",
        "vectors = [A,B,C,D,E,F]\n",
        "print(vectors)\n",
        "\n"
      ],
      "metadata": {
        "colab": {
          "base_uri": "https://localhost:8080/"
        },
        "id": "UwTbNBNf_CcI",
        "outputId": "196c0763-e36e-41c3-94d8-6818d90e7730"
      },
      "execution_count": 38,
      "outputs": [
        {
          "output_type": "stream",
          "name": "stdout",
          "text": [
            "[[-0.62796303, 0.0], [-1.7156269, 0.0], [-0.62796303, 0.0], [0.0, 0.70710678], [0.0, 0.70710678], [0.0, 1.41421356]]\n"
          ]
        }
      ]
    },
    {
      "cell_type": "code",
      "source": [
        "#create normalized vectors\n",
        "Anormalized = normalized(A)\n",
        "Bnormalized = normalized(B)\n",
        "Cnormalized = normalized(C)\n",
        "Dnormalized = normalized(D)\n",
        "Enormalized = normalized(E)\n",
        "Fnormalized = normalized(F)\n",
        "\n",
        "vectorsNormalized = [Anormalized, Bnormalized, Cnormalized,\n",
        "                     Dnormalized, Enormalized, Fnormalized]\n",
        "#################\n",
        "\n",
        "print(Anormalized, Bnormalized, Cnormalized, Dnormalized, Enormalized, Fnormalized)\n",
        "\n",
        "print('Vectors')\n",
        "print(vectors)\n",
        "print()\n",
        "print('Normalized Vectors')\n",
        "print(vectorsNormalized)"
      ],
      "metadata": {
        "colab": {
          "base_uri": "https://localhost:8080/"
        },
        "id": "rVwWN5u7_Cef",
        "outputId": "63e83d9a-2bf8-4184-8896-6eb7ddc68965"
      },
      "execution_count": 39,
      "outputs": [
        {
          "output_type": "stream",
          "name": "stdout",
          "text": [
            "[-1.  0.] [-1.  0.] [-1.  0.] [0. 1.] [0. 1.] [0. 1.]\n",
            "Vectors\n",
            "[[-0.62796303, 0.0], [-1.7156269, 0.0], [-0.62796303, 0.0], [0.0, 0.70710678], [0.0, 0.70710678], [0.0, 1.41421356]]\n",
            "\n",
            "Normalized Vectors\n",
            "[array([-1.,  0.]), array([-1.,  0.]), array([-1.,  0.]), array([0., 1.]), array([0., 1.]), array([0., 1.])]\n"
          ]
        }
      ]
    },
    {
      "cell_type": "code",
      "source": [
        "\n",
        "#computing cosine similarity\n",
        "numDocu = 6\n",
        "print(numDocu)\n",
        "\n",
        "cosine_SimtMatrix = np.zeros((numDocu, numDocu))\n",
        "cosine_DistMatrix = np.zeros((numDocu, numDocu))\n",
        "\n",
        "\n",
        "#computing the distance from all the vectros to all the vectors\n",
        "\n",
        "for i in range (numDocu):\n",
        "  for j in range (numDocu):\n",
        "    cosine_SimtMatrix[i,j] = cosine_Similarity (\n",
        "        vectorsNormalized[i], vectorsNormalized[j])\n",
        "    cosine_DistMatrix[i,j] = 1-cosine_SimtMatrix[i,j]\n",
        "\n",
        "print('Cosine Similarity')\n",
        "print(cosine_SimtMatrix)\n",
        "\n",
        "print()\n",
        "print('Cosine Distance')\n",
        "print(cosine_DistMatrix)\n",
        "# these figures are not accurate becouse it is based on count vectorizer # one more time will be compute after done SVD\n",
        "\n"
      ],
      "metadata": {
        "colab": {
          "base_uri": "https://localhost:8080/"
        },
        "id": "GagdOGNk_Cgr",
        "outputId": "7e6c18c3-aaff-4490-af7f-63f5b8e016e2"
      },
      "execution_count": 40,
      "outputs": [
        {
          "output_type": "stream",
          "name": "stdout",
          "text": [
            "6\n",
            "Cosine Similarity\n",
            "[[1. 1. 1. 0. 0. 0.]\n",
            " [1. 1. 1. 0. 0. 0.]\n",
            " [1. 1. 1. 0. 0. 0.]\n",
            " [0. 0. 0. 1. 1. 1.]\n",
            " [0. 0. 0. 1. 1. 1.]\n",
            " [0. 0. 0. 1. 1. 1.]]\n",
            "\n",
            "Cosine Distance\n",
            "[[0. 0. 0. 1. 1. 1.]\n",
            " [0. 0. 0. 1. 1. 1.]\n",
            " [0. 0. 0. 1. 1. 1.]\n",
            " [1. 1. 1. 0. 0. 0.]\n",
            " [1. 1. 1. 0. 0. 0.]\n",
            " [1. 1. 1. 0. 0. 0.]]\n"
          ]
        }
      ]
    },
    {
      "cell_type": "code",
      "source": [
        "#something\n",
        "import pandas as pd\n",
        "\n",
        "\n",
        "\n",
        "topic_encoded_df = pd.DataFrame(lsa, columns= [\"Topic-1\", \"Topic-2\"])\n",
        "topic_encoded_df[\"Corpus\"]= documents\n",
        "display(topic_encoded_df[['Corpus', 'Topic-1', 'Topic-2']])\n"
      ],
      "metadata": {
        "id": "FamapPBk_CkK",
        "colab": {
          "base_uri": "https://localhost:8080/",
          "height": 238
        },
        "outputId": "7126fe11-8f80-4b48-aa46-12d8a4b208c0"
      },
      "execution_count": 43,
      "outputs": [
        {
          "output_type": "display_data",
          "data": {
            "text/plain": [
              "                  Corpus       Topic-1       Topic-2\n",
              "0                   runs  6.279630e-01 -1.596927e-16\n",
              "1   runs pitcher innings  1.715627e+00 -1.570092e-16\n",
              "2                pitcher  6.279630e-01  2.683477e-18\n",
              "3              touchdown  0.000000e+00  7.071068e-01\n",
              "4            quarterback  1.394358e-16  7.071068e-01\n",
              "5  touchdown quarterback  1.394358e-16  1.414214e+00"
            ],
            "text/html": [
              "\n",
              "  <div id=\"df-d590f15a-598a-4e14-a534-3b5359877a23\" class=\"colab-df-container\">\n",
              "    <div>\n",
              "<style scoped>\n",
              "    .dataframe tbody tr th:only-of-type {\n",
              "        vertical-align: middle;\n",
              "    }\n",
              "\n",
              "    .dataframe tbody tr th {\n",
              "        vertical-align: top;\n",
              "    }\n",
              "\n",
              "    .dataframe thead th {\n",
              "        text-align: right;\n",
              "    }\n",
              "</style>\n",
              "<table border=\"1\" class=\"dataframe\">\n",
              "  <thead>\n",
              "    <tr style=\"text-align: right;\">\n",
              "      <th></th>\n",
              "      <th>Corpus</th>\n",
              "      <th>Topic-1</th>\n",
              "      <th>Topic-2</th>\n",
              "    </tr>\n",
              "  </thead>\n",
              "  <tbody>\n",
              "    <tr>\n",
              "      <th>0</th>\n",
              "      <td>runs</td>\n",
              "      <td>6.279630e-01</td>\n",
              "      <td>-1.596927e-16</td>\n",
              "    </tr>\n",
              "    <tr>\n",
              "      <th>1</th>\n",
              "      <td>runs pitcher innings</td>\n",
              "      <td>1.715627e+00</td>\n",
              "      <td>-1.570092e-16</td>\n",
              "    </tr>\n",
              "    <tr>\n",
              "      <th>2</th>\n",
              "      <td>pitcher</td>\n",
              "      <td>6.279630e-01</td>\n",
              "      <td>2.683477e-18</td>\n",
              "    </tr>\n",
              "    <tr>\n",
              "      <th>3</th>\n",
              "      <td>touchdown</td>\n",
              "      <td>0.000000e+00</td>\n",
              "      <td>7.071068e-01</td>\n",
              "    </tr>\n",
              "    <tr>\n",
              "      <th>4</th>\n",
              "      <td>quarterback</td>\n",
              "      <td>1.394358e-16</td>\n",
              "      <td>7.071068e-01</td>\n",
              "    </tr>\n",
              "    <tr>\n",
              "      <th>5</th>\n",
              "      <td>touchdown quarterback</td>\n",
              "      <td>1.394358e-16</td>\n",
              "      <td>1.414214e+00</td>\n",
              "    </tr>\n",
              "  </tbody>\n",
              "</table>\n",
              "</div>\n",
              "    <div class=\"colab-df-buttons\">\n",
              "\n",
              "  <div class=\"colab-df-container\">\n",
              "    <button class=\"colab-df-convert\" onclick=\"convertToInteractive('df-d590f15a-598a-4e14-a534-3b5359877a23')\"\n",
              "            title=\"Convert this dataframe to an interactive table.\"\n",
              "            style=\"display:none;\">\n",
              "\n",
              "  <svg xmlns=\"http://www.w3.org/2000/svg\" height=\"24px\" viewBox=\"0 -960 960 960\">\n",
              "    <path d=\"M120-120v-720h720v720H120Zm60-500h600v-160H180v160Zm220 220h160v-160H400v160Zm0 220h160v-160H400v160ZM180-400h160v-160H180v160Zm440 0h160v-160H620v160ZM180-180h160v-160H180v160Zm440 0h160v-160H620v160Z\"/>\n",
              "  </svg>\n",
              "    </button>\n",
              "\n",
              "  <style>\n",
              "    .colab-df-container {\n",
              "      display:flex;\n",
              "      gap: 12px;\n",
              "    }\n",
              "\n",
              "    .colab-df-convert {\n",
              "      background-color: #E8F0FE;\n",
              "      border: none;\n",
              "      border-radius: 50%;\n",
              "      cursor: pointer;\n",
              "      display: none;\n",
              "      fill: #1967D2;\n",
              "      height: 32px;\n",
              "      padding: 0 0 0 0;\n",
              "      width: 32px;\n",
              "    }\n",
              "\n",
              "    .colab-df-convert:hover {\n",
              "      background-color: #E2EBFA;\n",
              "      box-shadow: 0px 1px 2px rgba(60, 64, 67, 0.3), 0px 1px 3px 1px rgba(60, 64, 67, 0.15);\n",
              "      fill: #174EA6;\n",
              "    }\n",
              "\n",
              "    .colab-df-buttons div {\n",
              "      margin-bottom: 4px;\n",
              "    }\n",
              "\n",
              "    [theme=dark] .colab-df-convert {\n",
              "      background-color: #3B4455;\n",
              "      fill: #D2E3FC;\n",
              "    }\n",
              "\n",
              "    [theme=dark] .colab-df-convert:hover {\n",
              "      background-color: #434B5C;\n",
              "      box-shadow: 0px 1px 3px 1px rgba(0, 0, 0, 0.15);\n",
              "      filter: drop-shadow(0px 1px 2px rgba(0, 0, 0, 0.3));\n",
              "      fill: #FFFFFF;\n",
              "    }\n",
              "  </style>\n",
              "\n",
              "    <script>\n",
              "      const buttonEl =\n",
              "        document.querySelector('#df-d590f15a-598a-4e14-a534-3b5359877a23 button.colab-df-convert');\n",
              "      buttonEl.style.display =\n",
              "        google.colab.kernel.accessAllowed ? 'block' : 'none';\n",
              "\n",
              "      async function convertToInteractive(key) {\n",
              "        const element = document.querySelector('#df-d590f15a-598a-4e14-a534-3b5359877a23');\n",
              "        const dataTable =\n",
              "          await google.colab.kernel.invokeFunction('convertToInteractive',\n",
              "                                                    [key], {});\n",
              "        if (!dataTable) return;\n",
              "\n",
              "        const docLinkHtml = 'Like what you see? Visit the ' +\n",
              "          '<a target=\"_blank\" href=https://colab.research.google.com/notebooks/data_table.ipynb>data table notebook</a>'\n",
              "          + ' to learn more about interactive tables.';\n",
              "        element.innerHTML = '';\n",
              "        dataTable['output_type'] = 'display_data';\n",
              "        await google.colab.output.renderOutput(dataTable, element);\n",
              "        const docLink = document.createElement('div');\n",
              "        docLink.innerHTML = docLinkHtml;\n",
              "        element.appendChild(docLink);\n",
              "      }\n",
              "    </script>\n",
              "  </div>\n",
              "\n",
              "\n",
              "<div id=\"df-f9bb3323-989d-4b71-b22b-e5080dcee763\">\n",
              "  <button class=\"colab-df-quickchart\" onclick=\"quickchart('df-f9bb3323-989d-4b71-b22b-e5080dcee763')\"\n",
              "            title=\"Suggest charts\"\n",
              "            style=\"display:none;\">\n",
              "\n",
              "<svg xmlns=\"http://www.w3.org/2000/svg\" height=\"24px\"viewBox=\"0 0 24 24\"\n",
              "     width=\"24px\">\n",
              "    <g>\n",
              "        <path d=\"M19 3H5c-1.1 0-2 .9-2 2v14c0 1.1.9 2 2 2h14c1.1 0 2-.9 2-2V5c0-1.1-.9-2-2-2zM9 17H7v-7h2v7zm4 0h-2V7h2v10zm4 0h-2v-4h2v4z\"/>\n",
              "    </g>\n",
              "</svg>\n",
              "  </button>\n",
              "\n",
              "<style>\n",
              "  .colab-df-quickchart {\n",
              "      --bg-color: #E8F0FE;\n",
              "      --fill-color: #1967D2;\n",
              "      --hover-bg-color: #E2EBFA;\n",
              "      --hover-fill-color: #174EA6;\n",
              "      --disabled-fill-color: #AAA;\n",
              "      --disabled-bg-color: #DDD;\n",
              "  }\n",
              "\n",
              "  [theme=dark] .colab-df-quickchart {\n",
              "      --bg-color: #3B4455;\n",
              "      --fill-color: #D2E3FC;\n",
              "      --hover-bg-color: #434B5C;\n",
              "      --hover-fill-color: #FFFFFF;\n",
              "      --disabled-bg-color: #3B4455;\n",
              "      --disabled-fill-color: #666;\n",
              "  }\n",
              "\n",
              "  .colab-df-quickchart {\n",
              "    background-color: var(--bg-color);\n",
              "    border: none;\n",
              "    border-radius: 50%;\n",
              "    cursor: pointer;\n",
              "    display: none;\n",
              "    fill: var(--fill-color);\n",
              "    height: 32px;\n",
              "    padding: 0;\n",
              "    width: 32px;\n",
              "  }\n",
              "\n",
              "  .colab-df-quickchart:hover {\n",
              "    background-color: var(--hover-bg-color);\n",
              "    box-shadow: 0 1px 2px rgba(60, 64, 67, 0.3), 0 1px 3px 1px rgba(60, 64, 67, 0.15);\n",
              "    fill: var(--button-hover-fill-color);\n",
              "  }\n",
              "\n",
              "  .colab-df-quickchart-complete:disabled,\n",
              "  .colab-df-quickchart-complete:disabled:hover {\n",
              "    background-color: var(--disabled-bg-color);\n",
              "    fill: var(--disabled-fill-color);\n",
              "    box-shadow: none;\n",
              "  }\n",
              "\n",
              "  .colab-df-spinner {\n",
              "    border: 2px solid var(--fill-color);\n",
              "    border-color: transparent;\n",
              "    border-bottom-color: var(--fill-color);\n",
              "    animation:\n",
              "      spin 1s steps(1) infinite;\n",
              "  }\n",
              "\n",
              "  @keyframes spin {\n",
              "    0% {\n",
              "      border-color: transparent;\n",
              "      border-bottom-color: var(--fill-color);\n",
              "      border-left-color: var(--fill-color);\n",
              "    }\n",
              "    20% {\n",
              "      border-color: transparent;\n",
              "      border-left-color: var(--fill-color);\n",
              "      border-top-color: var(--fill-color);\n",
              "    }\n",
              "    30% {\n",
              "      border-color: transparent;\n",
              "      border-left-color: var(--fill-color);\n",
              "      border-top-color: var(--fill-color);\n",
              "      border-right-color: var(--fill-color);\n",
              "    }\n",
              "    40% {\n",
              "      border-color: transparent;\n",
              "      border-right-color: var(--fill-color);\n",
              "      border-top-color: var(--fill-color);\n",
              "    }\n",
              "    60% {\n",
              "      border-color: transparent;\n",
              "      border-right-color: var(--fill-color);\n",
              "    }\n",
              "    80% {\n",
              "      border-color: transparent;\n",
              "      border-right-color: var(--fill-color);\n",
              "      border-bottom-color: var(--fill-color);\n",
              "    }\n",
              "    90% {\n",
              "      border-color: transparent;\n",
              "      border-bottom-color: var(--fill-color);\n",
              "    }\n",
              "  }\n",
              "</style>\n",
              "\n",
              "  <script>\n",
              "    async function quickchart(key) {\n",
              "      const quickchartButtonEl =\n",
              "        document.querySelector('#' + key + ' button');\n",
              "      quickchartButtonEl.disabled = true;  // To prevent multiple clicks.\n",
              "      quickchartButtonEl.classList.add('colab-df-spinner');\n",
              "      try {\n",
              "        const charts = await google.colab.kernel.invokeFunction(\n",
              "            'suggestCharts', [key], {});\n",
              "      } catch (error) {\n",
              "        console.error('Error during call to suggestCharts:', error);\n",
              "      }\n",
              "      quickchartButtonEl.classList.remove('colab-df-spinner');\n",
              "      quickchartButtonEl.classList.add('colab-df-quickchart-complete');\n",
              "    }\n",
              "    (() => {\n",
              "      let quickchartButtonEl =\n",
              "        document.querySelector('#df-f9bb3323-989d-4b71-b22b-e5080dcee763 button');\n",
              "      quickchartButtonEl.style.display =\n",
              "        google.colab.kernel.accessAllowed ? 'block' : 'none';\n",
              "    })();\n",
              "  </script>\n",
              "</div>\n",
              "\n",
              "    </div>\n",
              "  </div>\n"
            ]
          },
          "metadata": {}
        }
      ]
    },
    {
      "cell_type": "code",
      "source": [
        "#correct Q 3 of Problem 5\n",
        "from sklearn.decomposition import TruncatedSVD\n",
        "import numpy as np\n",
        "import pandas as pd\n",
        "\n",
        "# Define the documents\n",
        "documents = [\n",
        "    'runs',\n",
        "    'runs pitcher innings',\n",
        "    'pitcher',\n",
        "    'touchdown',\n",
        "    'quarterback',\n",
        "    'touchdown quarterback'\n",
        "]\n",
        "\n",
        "# Step 1: Vectorize the documents using CountVectorizer\n",
        "vectorizer = CountVectorizer()\n",
        "X = vectorizer.fit_transform(documents)\n",
        "\n",
        "# Step 2: Create Document-Term Matrix (DTM)\n",
        "dtm_df = pd.DataFrame(X.toarray(), columns=vectorizer.get_feature_names_out())\n",
        "\n",
        "# Step 3: Create Term-Document Matrix (TDM)\n",
        "tdm_df = dtm_df.transpose()\n",
        "\n",
        "# Step 4: Perform Singular Value Decomposition (SVD) on DTM\n",
        "U_dtm, Sigma_dtm, VT_dtm = np.linalg.svd(dtm_df, full_matrices=False)\n",
        "\n",
        "# Step 5: Perform Singular Value Decomposition (SVD) on TDM\n",
        "U_tdm, Sigma_tdm, VT_tdm = np.linalg.svd(tdm_df, full_matrices=False)\n",
        "\n",
        "# Step 6: Truncate the matrices using only the first 2 eigenvalues\n",
        "num_components = 2\n",
        "svd_dtm = TruncatedSVD(n_components=num_components)\n",
        "truncated_dtm = svd_dtm.fit_transform(dtm_df)\n",
        "\n",
        "svd_tdm = TruncatedSVD(n_components=num_components)\n",
        "truncated_tdm = svd_tdm.fit_transform(tdm_df)\n",
        "\n",
        "# Display the results\n",
        "print(\"Truncated Document-Term Matrix (Truncated DTM):\")\n",
        "print(pd.DataFrame(truncated_dtm, columns=[f'Component {i + 1}' for i in range(num_components)]))\n",
        "\n",
        "print(\"\\nTruncated Term-Document Matrix (Truncated TDM):\")\n",
        "print(pd.DataFrame(truncated_tdm, columns=[f'Component {i + 1}' for i in range(num_components)]))\n"
      ],
      "metadata": {
        "colab": {
          "base_uri": "https://localhost:8080/"
        },
        "id": "ODlQpLcMZhxs",
        "outputId": "85786b23-ee9a-4f7a-dcf6-7484c39b5d74"
      },
      "execution_count": null,
      "outputs": [
        {
          "output_type": "stream",
          "name": "stdout",
          "text": [
            "Truncated Document-Term Matrix (Truncated DTM):\n",
            "    Component 1   Component 2\n",
            "0  6.279630e-01 -4.327617e-16\n",
            "1  1.715627e+00 -1.373831e-16\n",
            "2  6.279630e-01  2.953786e-16\n",
            "3  6.971790e-17  7.071068e-01\n",
            "4  5.228843e-17  7.071068e-01\n",
            "5  1.220063e-16  1.414214e+00\n",
            "\n",
            "Truncated Term-Document Matrix (Truncated TDM):\n",
            "    Component 1   Component 2\n",
            "0  8.880738e-01 -1.748475e-18\n",
            "1  1.213131e+00 -3.212841e-16\n",
            "2  9.167209e-17  1.224745e+00\n",
            "3  1.213131e+00 -9.730237e-17\n",
            "4  1.643416e-17  1.224745e+00\n"
          ]
        }
      ]
    },
    {
      "cell_type": "code",
      "source": [
        "#correct Q4 of problem 5\n",
        "import matplotlib.pyplot as plt\n",
        "from sklearn.metrics.pairwise import cosine_similarity, cosine_distances\n",
        "\n",
        "# Define the documents\n",
        "documents = [\n",
        "    'runs',\n",
        "    'runs pitcher innings',\n",
        "    'pitcher',\n",
        "    'touchdown',\n",
        "    'quarterback',\n",
        "    'touchdown quarterback'\n",
        "]\n",
        "\n",
        "# Step 1: Vectorize the documents using CountVectorizer\n",
        "vectorizer = CountVectorizer()\n",
        "X = vectorizer.fit_transform(documents)\n",
        "\n",
        "# Step 2: Apply TruncatedSVD for dimensionality reduction\n",
        "num_topics = 2\n",
        "svd = TruncatedSVD(n_components=num_topics)\n",
        "truncated_vectors = svd.fit_transform(X)\n",
        "\n",
        "# Display the results\n",
        "print(\"Truncated Vectors:\")\n",
        "print(pd.DataFrame(truncated_vectors, columns=[f'Topic {i + 1}' for i in range(num_topics)]))\n",
        "\n",
        "# Plot the truncated vectors\n",
        "plt.figure(figsize=(8, 6))\n",
        "plt.scatter(truncated_vectors[:, 0], truncated_vectors[:, 1], c='blue', marker='o')\n",
        "plt.title('Truncated Vectors')\n",
        "plt.xlabel('Truncated DTM/Topic-1 values')\n",
        "plt.ylabel('Truncated DTM/Topic-2 values')\n",
        "for i, txt in enumerate(documents):\n",
        "    plt.annotate(txt, (truncated_vectors[i, 0], truncated_vectors[i, 1]), fontsize=8)\n",
        "\n",
        "plt.show()\n",
        "\n",
        "# Compute cosine similarity and cosine distance using Truncated SVD\n",
        "cosine_similarity_matrix_truncated = cosine_similarity(truncated_vectors)\n",
        "cosine_distance_matrix_truncated = cosine_distances(truncated_vectors)\n",
        "\n",
        "# Display the results\n",
        "print(\"\\nCosine Similarity Matrix (Truncated):\")\n",
        "print(cosine_similarity_matrix_truncated)\n",
        "\n",
        "print(\"\\nCosine Distance Matrix (Truncated):\")\n",
        "print(cosine_distance_matrix_truncated)\n"
      ],
      "metadata": {
        "id": "pqO1YxDiJlzN",
        "colab": {
          "base_uri": "https://localhost:8080/",
          "height": 981
        },
        "outputId": "621ab19a-47bc-4583-ea6d-23522f40cde3"
      },
      "execution_count": null,
      "outputs": [
        {
          "output_type": "stream",
          "name": "stdout",
          "text": [
            "Truncated Vectors:\n",
            "        Topic 1       Topic 2\n",
            "0  6.279630e-01  2.264828e-16\n",
            "1  1.715627e+00  3.042054e-16\n",
            "2  6.279630e-01  7.772262e-17\n",
            "3 -1.307211e-16  7.071068e-01\n",
            "4 -1.394358e-16  7.071068e-01\n",
            "5 -2.701569e-16  1.414214e+00\n"
          ]
        },
        {
          "output_type": "display_data",
          "data": {
            "text/plain": [
              "<Figure size 800x600 with 1 Axes>"
            ],
            "image/png": "[encoded data removed]"
          },
          "metadata": {}
        },
        {
          "output_type": "stream",
          "name": "stdout",
          "text": [
            "\n",
            "Cosine Similarity Matrix (Truncated):\n",
            "[[ 1.  1.  1.  0.  0.  0.]\n",
            " [ 1.  1.  1. -0. -0. -0.]\n",
            " [ 1.  1.  1. -0. -0. -0.]\n",
            " [ 0. -0. -0.  1.  1.  1.]\n",
            " [ 0. -0. -0.  1.  1.  1.]\n",
            " [ 0. -0. -0.  1.  1.  1.]]\n",
            "\n",
            "Cosine Distance Matrix (Truncated):\n",
            "[[0. 0. 0. 1. 1. 1.]\n",
            " [0. 0. 0. 1. 1. 1.]\n",
            " [0. 0. 0. 1. 1. 1.]\n",
            " [1. 1. 1. 0. 0. 0.]\n",
            " [1. 1. 1. 0. 0. 0.]\n",
            " [1. 1. 1. 0. 0. 0.]]\n"
          ]
        }
      ]
    },
    {
      "cell_type": "code",
      "source": [
        "# q5 of problem 5\n",
        "#Find document assignments for 'Topic-1' and 'Topic-2'\n",
        "topic_assignments = np.argmax(truncated_vectors, axis=1) + 1\n",
        "\n",
        "# Display the document assignments\n",
        "for i, document in enumerate(documents):\n",
        "    print(f\"{document} is assigned to Topic {topic_assignments[i]}\")\n"
      ],
      "metadata": {
        "id": "zBuVEVhkFQHX",
        "colab": {
          "base_uri": "https://localhost:8080/"
        },
        "outputId": "e2fc8a6d-6f03-4f7f-9c8d-0ad5f08fd73e"
      },
      "execution_count": null,
      "outputs": [
        {
          "output_type": "stream",
          "name": "stdout",
          "text": [
            "runs is assigned to Topic 1\n",
            "runs pitcher innings is assigned to Topic 1\n",
            "pitcher is assigned to Topic 1\n",
            "touchdown is assigned to Topic 2\n",
            "quarterback is assigned to Topic 2\n",
            "touchdown quarterback is assigned to Topic 2\n"
          ]
        }
      ]
    },
    {
      "cell_type": "code",
      "source": [
        "# Q6 of problem 5\n",
        "#Get the components from TruncatedSVD\n",
        "components = svd.components_\n",
        "\n",
        "# Display the top 2 words for each topic\n",
        "for i in range(num_topics):\n",
        "    top_words_idx = components[i].argsort()[-2:][::-1]\n",
        "    top_words = [vectorizer.get_feature_names_out()[idx] for idx in top_words_idx]\n",
        "    print(f\"Top 2 words for Topic-{i + 1}: {', '.join(top_words)}\")\n"
      ],
      "metadata": {
        "id": "ukVwH_OwFQK9",
        "colab": {
          "base_uri": "https://localhost:8080/"
        },
        "outputId": "eba2759a-b116-436c-97c7-34a0d71ff831"
      },
      "execution_count": null,
      "outputs": [
        {
          "output_type": "stream",
          "name": "stdout",
          "text": [
            "Top 2 words for Topic-1: runs, pitcher\n",
            "Top 2 words for Topic-2: touchdown, quarterback\n"
          ]
        }
      ]
    }
  ]
}