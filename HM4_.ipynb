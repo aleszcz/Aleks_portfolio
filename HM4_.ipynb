{
  "nbformat": 4,
  "nbformat_minor": 0,
  "metadata": {
    "colab": {
      "provenance": [],
      "authorship_tag": "ABX9TyNU/2J0RrhSRKzpM/1ZU3zF",
      "include_colab_link": true
    },
    "kernelspec": {
      "name": "python3",
      "display_name": "Python 3"
    },
    "language_info": {
      "name": "python"
    }
  },
  "cells": [
    {
      "cell_type": "markdown",
      "metadata": {
        "id": "view-in-github",
        "colab_type": "text"
      },
      "source": [
        "<a href=\"https://colab.research.google.com/github/aleszcz/Aleks_portfolio/blob/main/HM4_.ipynb\" target=\"_parent\"><img src=\"https://colab.research.google.com/assets/colab-badge.svg\" alt=\"Open In Colab\"/></a>"
      ]
    },
    {
      "cell_type": "code",
      "execution_count": 8,
      "metadata": {
        "colab": {
          "base_uri": "https://localhost:8080/"
        },
        "id": "wEAf5rlfoukR",
        "outputId": "461c8928-6213-45f0-ed3c-f312e8a68280"
      },
      "outputs": [
        {
          "output_type": "stream",
          "name": "stdout",
          "text": [
            "Eigenvalues:\n",
            "[2. 5.]\n",
            "\n",
            "Eigenvectors:\n",
            "[[1. 0.]\n",
            " [0. 1.]]\n"
          ]
        }
      ],
      "source": [
        "import numpy as np\n",
        "\n",
        "# Define the matrix\n",
        "matrix_A = np.array([[2, 0],\n",
        "                     [0, 5]])\n",
        "\n",
        "# Calculate eigenvalues and eigenvectors\n",
        "eigenvalues, eigenvectors = np.linalg.eig(matrix_A)\n",
        "\n",
        "# Print the results\n",
        "print(\"Eigenvalues:\")\n",
        "print(eigenvalues)\n",
        "\n",
        "print(\"\\nEigenvectors:\")\n",
        "print(eigenvectors)\n"
      ]
    },
    {
      "cell_type": "code",
      "source": [
        "import numpy as np\n",
        "\n",
        "# Define the matrix\n",
        "matrix_A = np.array([[4, 1, 6],\n",
        "                    [0, 2, 3],\n",
        "                    [0, 0, 9]])\n",
        "\n",
        "# Calculate eigenvalues and eigenvectors\n",
        "eigenvalues, eigenvectors = np.linalg.eig(matrix_A)\n",
        "\n",
        "# Print the results\n",
        "print(\"Eigenvalues:\")\n",
        "print(eigenvalues)\n",
        "\n",
        "print(\"\\nEigenvectors:\")\n",
        "print(eigenvectors)\n"
      ],
      "metadata": {
        "colab": {
          "base_uri": "https://localhost:8080/"
        },
        "id": "HcUr5FGHs592",
        "outputId": "5586295f-987c-46eb-d96a-a2c599da7f3d"
      },
      "execution_count": 9,
      "outputs": [
        {
          "output_type": "stream",
          "name": "stdout",
          "text": [
            "Eigenvalues:\n",
            "[4. 2. 9.]\n",
            "\n",
            "Eigenvectors:\n",
            "[[ 1.         -0.4472136   0.76337004]\n",
            " [ 0.          0.89442719  0.25445668]\n",
            " [ 0.          0.          0.59373225]]\n"
          ]
        }
      ]
    },
    {
      "cell_type": "code",
      "source": [
        "import numpy as np\n",
        "\n",
        "# Define the matrix\n",
        "matrix_A = np.array([[1, 4, 0, 0],\n",
        "                    [0, 2, 0, 0],\n",
        "                    [4, 5, 1, 1],\n",
        "                    [4, 7, 2, 2]])\n",
        "\n",
        "# Calculate eigenvalues and eigenvectors\n",
        "eigenvalues, eigenvectors = np.linalg.eig(matrix_A)\n",
        "\n",
        "# Print the results\n",
        "print(\"Eigenvalues:\")\n",
        "print(eigenvalues)\n",
        "\n",
        "print(\"\\nEigenvectors:\")\n",
        "print(eigenvectors)\n"
      ],
      "metadata": {
        "colab": {
          "base_uri": "https://localhost:8080/"
        },
        "id": "Xm9P6Loqs6Bc",
        "outputId": "f9725f00-a1b4-448e-cbba-b0f6c9352fbb"
      },
      "execution_count": 10,
      "outputs": [
        {
          "output_type": "stream",
          "name": "stdout",
          "text": [
            "Eigenvalues:\n",
            "[0. 3. 1. 2.]\n",
            "\n",
            "Eigenvectors:\n",
            "[[ 0.00000000e+00  0.00000000e+00  2.42535625e-01  1.15206341e-01]\n",
            " [ 0.00000000e+00  0.00000000e+00  0.00000000e+00  2.88015853e-02]\n",
            " [-7.07106781e-01 -4.47213595e-01 -2.17031968e-17 -3.31218231e-01]\n",
            " [ 7.07106781e-01 -8.94427191e-01 -9.70142500e-01 -9.36051522e-01]]\n"
          ]
        }
      ]
    },
    {
      "cell_type": "code",
      "source": [
        "#No, the concept of eigenvalues and eigenvectors is specifically defined for square matrices. In linear algebra, a square matrix is a matrix with an equal number of rows and columns."
      ],
      "metadata": {
        "id": "gjUluBpW03Xo"
      },
      "execution_count": null,
      "outputs": []
    },
    {
      "cell_type": "code",
      "source": [
        "#SVD\n",
        "import numpy as np\n",
        "\n",
        "# Define the matrix\n",
        "matrix_A = np.array([[5, 7, 21, 32],\n",
        "                    [0, 3, 43, 24],\n",
        "                    [2, 36, 95, 84],\n",
        "                    [92, 37, 57, 64]])\n",
        "\n",
        "# Calculate SVD\n",
        "U, Sigma, Vt = np.linalg.svd(matrix_A)\n",
        "\n",
        "# Print the results\n",
        "print(\"Matrix U:\")\n",
        "print(U)\n",
        "\n",
        "print(\"\\nMatrix Sigma (Diagonal matrix):\")\n",
        "print(np.diag(Sigma))\n",
        "\n",
        "print(\"\\nMatrix V transpose:\")\n",
        "print(Vt)\n"
      ],
      "metadata": {
        "colab": {
          "base_uri": "https://localhost:8080/"
        },
        "id": "S4khqZ7ys6I7",
        "outputId": "72858aaf-84b7-4da3-dbe8-8e70e877ff37"
      },
      "execution_count": 11,
      "outputs": [
        {
          "output_type": "stream",
          "name": "stdout",
          "text": [
            "Matrix U:\n",
            "[[-0.20468979 -0.10450951 -0.51344003 -0.82677638]\n",
            " [-0.24019891 -0.2628848   0.8325511  -0.42432856]\n",
            " [-0.68596945 -0.59544671 -0.19825567  0.36821708]\n",
            " [-0.65563137  0.7519392   0.06271115  0.02832426]]\n",
            "\n",
            "Matrix Sigma (Diagonal matrix):\n",
            "[[181.08950358   0.           0.           0.        ]\n",
            " [  0.          73.81513152   0.           0.        ]\n",
            " [  0.           0.          14.85458672   0.        ]\n",
            " [  0.           0.           0.           8.32221756]]\n",
            "\n",
            "Matrix V transpose:\n",
            "[[-0.34631203 -0.28221783 -0.64700119 -0.61790819]\n",
            " [ 0.91397203  0.06591396 -0.36856466 -0.15643072]\n",
            " [ 0.18887868 -0.39808031  0.65688152 -0.61185258]\n",
            " [-0.09512076  0.87036804  0.11855891 -0.46835383]]\n"
          ]
        }
      ]
    },
    {
      "cell_type": "code",
      "source": [
        "import numpy as np\n",
        "\n",
        "# Define the matrix\n",
        "original_matrix = np.array([[5, 7, 21, 32],\n",
        "                            [0, 3, 43, 24],\n",
        "                            [2, 36, 95, 84],\n",
        "                            [92, 37, 57, 64]])\n",
        "\n",
        "# Compute SVD\n",
        "U, Sigma, Vt = np.linalg.svd(original_matrix, full_matrices=True)\n",
        "\n",
        "# Diagonal matrix from Sigma values\n",
        "Sigma_matrix = np.diag(Sigma)\n",
        "\n",
        "# Verify by multiplying U, Sigma, and Vt\n",
        "reconstructed_matrix = np.dot(U, np.dot(Sigma_matrix, Vt))\n",
        "\n",
        "# Print the results\n",
        "print(\"Original Matrix:\")\n",
        "print(original_matrix)\n",
        "\n",
        "print(\"\\nU Matrix:\")\n",
        "print(U)\n",
        "\n",
        "print(\"\\nSigma Matrix:\")\n",
        "print(Sigma_matrix)\n",
        "\n",
        "print(\"\\nVt Matrix:\")\n",
        "print(Vt)\n",
        "\n",
        "print(\"\\nReconstructed Matrix:\")\n",
        "print(reconstructed_matrix)\n"
      ],
      "metadata": {
        "colab": {
          "base_uri": "https://localhost:8080/"
        },
        "id": "Ei2Orx5-x2vl",
        "outputId": "5c53e3af-b9ff-4a0d-de9c-02ede19c8df3"
      },
      "execution_count": 12,
      "outputs": [
        {
          "output_type": "stream",
          "name": "stdout",
          "text": [
            "Original Matrix:\n",
            "[[ 5  7 21 32]\n",
            " [ 0  3 43 24]\n",
            " [ 2 36 95 84]\n",
            " [92 37 57 64]]\n",
            "\n",
            "U Matrix:\n",
            "[[-0.20468979 -0.10450951 -0.51344003 -0.82677638]\n",
            " [-0.24019891 -0.2628848   0.8325511  -0.42432856]\n",
            " [-0.68596945 -0.59544671 -0.19825567  0.36821708]\n",
            " [-0.65563137  0.7519392   0.06271115  0.02832426]]\n",
            "\n",
            "Sigma Matrix:\n",
            "[[181.08950358   0.           0.           0.        ]\n",
            " [  0.          73.81513152   0.           0.        ]\n",
            " [  0.           0.          14.85458672   0.        ]\n",
            " [  0.           0.           0.           8.32221756]]\n",
            "\n",
            "Vt Matrix:\n",
            "[[-0.34631203 -0.28221783 -0.64700119 -0.61790819]\n",
            " [ 0.91397203  0.06591396 -0.36856466 -0.15643072]\n",
            " [ 0.18887868 -0.39808031  0.65688152 -0.61185258]\n",
            " [-0.09512076  0.87036804  0.11855891 -0.46835383]]\n",
            "\n",
            "Reconstructed Matrix:\n",
            "[[ 5.00000000e+00  7.00000000e+00  2.10000000e+01  3.20000000e+01]\n",
            " [-1.66660416e-15  3.00000000e+00  4.30000000e+01  2.40000000e+01]\n",
            " [ 2.00000000e+00  3.60000000e+01  9.50000000e+01  8.40000000e+01]\n",
            " [ 9.20000000e+01  3.70000000e+01  5.70000000e+01  6.40000000e+01]]\n"
          ]
        }
      ]
    },
    {
      "cell_type": "code",
      "source": [
        "import numpy as np\n",
        "\n",
        "A = np.array([[5, 7, 21, 32],\n",
        "              [0, 3, 43, 24],\n",
        "              [2, 36, 95, 84],\n",
        "              [92, 37, 57, 64]])\n",
        "\n",
        "A[0, :] = A[1, :] + A[2, :]  # Make the first row the sum of the 2nd and 3rd rows\n",
        "A[-1, :] = A[1, :]           # Make the last row the same as the 2nd row\n",
        "\n",
        "print(A)"
      ],
      "metadata": {
        "colab": {
          "base_uri": "https://localhost:8080/"
        },
        "id": "G9FIazKvx2zH",
        "outputId": "dbf3ecdd-327e-4603-87fe-33db1e0f75f7"
      },
      "execution_count": 13,
      "outputs": [
        {
          "output_type": "stream",
          "name": "stdout",
          "text": [
            "[[  2  39 138 108]\n",
            " [  0   3  43  24]\n",
            " [  2  36  95  84]\n",
            " [  0   3  43  24]]\n"
          ]
        }
      ]
    },
    {
      "cell_type": "code",
      "source": [
        "U, S, V = np.linalg.svd(A)\n",
        "print(A)"
      ],
      "metadata": {
        "colab": {
          "base_uri": "https://localhost:8080/"
        },
        "id": "QTiZW23-s6Ma",
        "outputId": "3089acde-435c-4128-82fb-28b7f44cb411"
      },
      "execution_count": null,
      "outputs": [
        {
          "output_type": "stream",
          "name": "stdout",
          "text": [
            "[[  2  39 138 108]\n",
            " [  0   3  43  24]\n",
            " [  2  36  95  84]\n",
            " [  0   3  43  24]]\n"
          ]
        }
      ]
    },
    {
      "cell_type": "code",
      "source": [
        "# Why the last 2 values of the ‘Sigma’ matrix values are zeros\n",
        "#result of the rank deficiency of the modified matrix A. In this case, the last two rows of the matrix are linearly dependent on the first two rows.\n",
        "# When performing SVD, the singular values in the Sigma matrix represent the magnitude of the singular vectors.\n",
        "#If there are fewer non-zero singular values than the size of the matrix, it indicates that the matrix has less than full rank."
      ],
      "metadata": {
        "id": "lgeZgdI2BTHY"
      },
      "execution_count": null,
      "outputs": []
    },
    {
      "cell_type": "code",
      "source": [
        "#In this specific example, the last two singular values are zero because the matrix A is rank-deficient.\n",
        "#The zero singular values indicate that there are linear dependencies in the rows (or columns) of the matrix, and this results in a lower-rank representation.\n",
        "#The rank of a matrix indicates how many of these rows (or columns) are independent, meaning they provide unique information.\n",
        "#Having a lower rank suggests that there is less diversity or independence among the rows (or columns) of the matrix."
      ],
      "metadata": {
        "id": "wA_9_ZXhBTJo"
      },
      "execution_count": null,
      "outputs": []
    },
    {
      "cell_type": "code",
      "source": [
        "#rectangal matrix\n",
        "import numpy as np\n",
        "A = np.array([[3, 1, 1],[-1,3,1]])\n",
        "#B = np.array ([[1, 1],[0, 1],[-1, 1]])\n",
        "print(A)\n",
        "#print(B)\n"
      ],
      "metadata": {
        "colab": {
          "base_uri": "https://localhost:8080/"
        },
        "id": "HkKoitHhErjP",
        "outputId": "d5fab53b-e1e8-4e18-a359-056cbf966007"
      },
      "execution_count": 21,
      "outputs": [
        {
          "output_type": "stream",
          "name": "stdout",
          "text": [
            "[[ 3  1  1]\n",
            " [-1  3  1]]\n"
          ]
        }
      ]
    },
    {
      "cell_type": "code",
      "source": [
        "#compute AtA and AAT  to get Square\n",
        "ATA= np.dot(A.T,A)\n",
        "AAT = np.dot(A,A.T)\n",
        "print('ATA')\n",
        "print(ATA)\n",
        "\n",
        "print('AAT')\n",
        "print(AAT)"
      ],
      "metadata": {
        "colab": {
          "base_uri": "https://localhost:8080/"
        },
        "id": "w9y9ZIjrErlt",
        "outputId": "8cf0eb55-e13f-408c-ee35-973455031b69"
      },
      "execution_count": 22,
      "outputs": [
        {
          "output_type": "stream",
          "name": "stdout",
          "text": [
            "ATA\n",
            "[[10  0  2]\n",
            " [ 0 10  4]\n",
            " [ 2  4  2]]\n",
            "AAT\n",
            "[[11  1]\n",
            " [ 1 11]]\n"
          ]
        }
      ]
    },
    {
      "cell_type": "code",
      "source": [
        "from scipy.linalg import eig\n",
        "#compute Eigen vectors and values of ATA\n",
        "\n",
        "# Assuming ATA is defined earlier in your code\n",
        "values, vectors = eig(ATA)\n",
        "print()\n",
        "print(values)\n",
        "print()\n",
        "print(vectors)\n"
      ],
      "metadata": {
        "colab": {
          "base_uri": "https://localhost:8080/"
        },
        "id": "z440BWZXJJ-l",
        "outputId": "e3114d36-944c-40f4-dd82-64b17639793d"
      },
      "execution_count": 24,
      "outputs": [
        {
          "output_type": "stream",
          "name": "stdout",
          "text": [
            "\n",
            "[ 0.+0.j 10.+0.j 12.+0.j]\n",
            "\n",
            "[[ 1.82574186e-01 -8.94427191e-01 -4.08248290e-01]\n",
            " [ 3.65148372e-01  4.47213595e-01 -8.16496581e-01]\n",
            " [-9.12870929e-01  5.07704275e-16 -4.08248290e-01]]\n"
          ]
        }
      ]
    },
    {
      "cell_type": "code",
      "source": [
        "#decompose of ATA again\n",
        "# A = P*D*Transpose(P)\n",
        "# is matrix columns are eigien vectors of A and D i diagonal matrix of eigen values of A along the diagonal\n",
        "\n",
        "r= np.dot(vectors, np.diag(values))\n",
        "recreated = np.dot(r,vectors.T)\n",
        "print('REcreated Matrix =')\n",
        "print('Eigen Vectors * Eigen Vlues * Transpose(Eigen Vectors)')\n",
        "print(recreated)\n",
        "print()\n",
        "print('Original Matrix =\\n',ATA)\n"
      ],
      "metadata": {
        "id": "FYjbSkgJJlv0",
        "colab": {
          "base_uri": "https://localhost:8080/"
        },
        "outputId": "bcee8154-4895-42c3-e4d0-20ad6f2c82b0"
      },
      "execution_count": 26,
      "outputs": [
        {
          "output_type": "stream",
          "name": "stdout",
          "text": [
            "REcreated Matrix =\n",
            "Eigen Vectors * Eigen Vlues * Transpose(Eigen Vectors)\n",
            "[[1.00000000e+01+0.j 3.86082910e-15+0.j 2.00000000e+00+0.j]\n",
            " [4.40472508e-15+0.j 1.00000000e+01+0.j 4.00000000e+00+0.j]\n",
            " [2.00000000e+00+0.j 4.00000000e+00+0.j 2.00000000e+00+0.j]]\n",
            "\n",
            "Original Matrix =\n",
            " [[10  0  2]\n",
            " [ 0 10  4]\n",
            " [ 2  4  2]]\n"
          ]
        }
      ]
    },
    {
      "cell_type": "code",
      "source": [
        "#Compute Eigen vector AAT\n",
        "values, vectors= eig(AAT)\n",
        "\n",
        "print()\n",
        "print(values)\n",
        "print()\n",
        "print(vectors)"
      ],
      "metadata": {
        "colab": {
          "base_uri": "https://localhost:8080/"
        },
        "id": "kc49NSy4PsxQ",
        "outputId": "e95be318-42e2-4eab-b4a7-ac3ccae9f9ba"
      },
      "execution_count": 27,
      "outputs": [
        {
          "output_type": "stream",
          "name": "stdout",
          "text": [
            "\n",
            "[12.+0.j 10.+0.j]\n",
            "\n",
            "[[ 0.70710678 -0.70710678]\n",
            " [ 0.70710678  0.70710678]]\n"
          ]
        }
      ]
    },
    {
      "cell_type": "code",
      "source": [
        "#decompose AAT\n",
        "\n",
        "r= np.dot(vectors, np.diag(values))\n",
        "recreated = np.dot(r,vectors.T)\n",
        "print('REcreated Matrix =')\n",
        "print('Eigen Vectors * Eigen Vlues * Transpose(Eigen Vectors)')\n",
        "print(recreated)\n",
        "print()\n",
        "print('Original Matrix =\\n',AAT)"
      ],
      "metadata": {
        "colab": {
          "base_uri": "https://localhost:8080/"
        },
        "id": "h8dHya3aPszf",
        "outputId": "985597fc-4a3a-4eb3-d786-ab27c7505b91"
      },
      "execution_count": 38,
      "outputs": [
        {
          "output_type": "stream",
          "name": "stdout",
          "text": [
            "REcreated Matrix =\n",
            "Eigen Vectors * Eigen Vlues * Transpose(Eigen Vectors)\n",
            "[[11.+0.j  1.+0.j]\n",
            " [ 1.+0.j 11.+0.j]]\n",
            "\n",
            "Original Matrix =\n",
            " [[11  1]\n",
            " [ 1 11]]\n"
          ]
        }
      ]
    },
    {
      "cell_type": "code",
      "source": [
        "#compute SVD of REctangle matrix\n",
        "np.set_printoptions( precision = 4, suppress=True)\n",
        "from scipy.linalg import svd\n"
      ],
      "metadata": {
        "id": "20efEjqVPs3B"
      },
      "execution_count": 39,
      "outputs": []
    },
    {
      "cell_type": "code",
      "source": [
        "V, Sigma, UStar = svd (A)\n",
        "print(V, \"\\n\\n\", Sigma, \"\\n\\n\", UStar)\n"
      ],
      "metadata": {
        "colab": {
          "base_uri": "https://localhost:8080/"
        },
        "id": "BC_LLQQhRWlb",
        "outputId": "96a8b076-1066-4090-ed13-157daaacca3c"
      },
      "execution_count": 40,
      "outputs": [
        {
          "output_type": "stream",
          "name": "stdout",
          "text": [
            "[[-0.7071 -0.7071]\n",
            " [-0.7071  0.7071]] \n",
            "\n",
            " [3.4641 3.1623] \n",
            "\n",
            " [[-0.4082 -0.8165 -0.4082]\n",
            " [-0.8944  0.4472  0.    ]\n",
            " [-0.1826 -0.3651  0.9129]]\n"
          ]
        }
      ]
    },
    {
      "cell_type": "code",
      "source": [
        "#computing back to the orgiginal maatrix back\n",
        "\n",
        "sigmaMatrix = np.diag(Sigma)\n",
        "print('Sigma Matrix \\n', sigmaMatrix)"
      ],
      "metadata": {
        "colab": {
          "base_uri": "https://localhost:8080/"
        },
        "id": "AGnB1sutRWoQ",
        "outputId": "88ed2712-26b2-40e0-9f97-591797662321"
      },
      "execution_count": 41,
      "outputs": [
        {
          "output_type": "stream",
          "name": "stdout",
          "text": [
            "Sigma Matrix \n",
            " [[3.4641 0.    ]\n",
            " [0.     3.1623]]\n"
          ]
        }
      ]
    },
    {
      "cell_type": "code",
      "source": [
        "#apply zeros to get rectangular matrix-tricks\n",
        "z= np.zeros((2,1))\n",
        "sigmaMatrix_extended = np.hstack((sigmaMatrix,z))\n",
        "print(sigmaMatrix)\n"
      ],
      "metadata": {
        "colab": {
          "base_uri": "https://localhost:8080/"
        },
        "id": "tPuPWya2RWr0",
        "outputId": "fd447e58-7bfd-490b-cee0-4277d8bc5219"
      },
      "execution_count": 42,
      "outputs": [
        {
          "output_type": "stream",
          "name": "stdout",
          "text": [
            "[[3.4641 0.    ]\n",
            " [0.     3.1623]]\n"
          ]
        }
      ]
    },
    {
      "cell_type": "code",
      "source": [
        "#Verification of SVD original rectangular MAtrix\n",
        "res = np.dot (V,sigmaMatrix_extended)\n",
        "recreateA = np.dot(res,UStar)\n",
        "print( '\\nREcreated Matrix A \\n',recreateA)\n",
        "print('\\nOriginal Matrix A \\n', A)\n",
        "print()"
      ],
      "metadata": {
        "colab": {
          "base_uri": "https://localhost:8080/"
        },
        "id": "cU_G9BdkTJgr",
        "outputId": "c7cbd705-f41c-4fd1-90aa-6e138f437788"
      },
      "execution_count": 47,
      "outputs": [
        {
          "output_type": "stream",
          "name": "stdout",
          "text": [
            "\n",
            "REcreated Matrix A \n",
            " [[ 3.  1.  1.]\n",
            " [-1.  3.  1.]]\n",
            "\n",
            "Original Matrix A \n",
            " [[ 3  1  1]\n",
            " [-1  3  1]]\n",
            "\n"
          ]
        }
      ]
    },
    {
      "cell_type": "code",
      "source": [
        "#rectangal matrix B\n",
        "import numpy as np\n",
        "#A = np.array([[3, 1, 1],[-1,3,1]])\n",
        "A = np.array ([[1, 1],[0, 1],[-1, 1]])\n",
        "print(A)"
      ],
      "metadata": {
        "colab": {
          "base_uri": "https://localhost:8080/"
        },
        "id": "b_RxPnvKT3C-",
        "outputId": "8ab3aeba-70f1-4520-a700-8a66b6f9742a"
      },
      "execution_count": 74,
      "outputs": [
        {
          "output_type": "stream",
          "name": "stdout",
          "text": [
            "[[ 1  1]\n",
            " [ 0  1]\n",
            " [-1  1]]\n"
          ]
        }
      ]
    },
    {
      "cell_type": "code",
      "source": [
        "#compute AtA and AAT  to get Square\n",
        "ATA= np.dot(A.T,A)\n",
        "AAT = np.dot(A,A.T)\n",
        "print('ATA')\n",
        "print(ATA)\n",
        "\n",
        "print('AAT')\n",
        "print(AAT)"
      ],
      "metadata": {
        "colab": {
          "base_uri": "https://localhost:8080/"
        },
        "id": "7nEUcFq7T3Fp",
        "outputId": "5a57d7e9-913d-4a9b-eb14-01ee0146032e"
      },
      "execution_count": 75,
      "outputs": [
        {
          "output_type": "stream",
          "name": "stdout",
          "text": [
            "ATA\n",
            "[[2 0]\n",
            " [0 3]]\n",
            "AAT\n",
            "[[2 1 0]\n",
            " [1 1 1]\n",
            " [0 1 2]]\n"
          ]
        }
      ]
    },
    {
      "cell_type": "code",
      "source": [
        "from scipy.linalg import eig\n",
        "#compute Eigen vectors and values of ATA\n",
        "\n",
        "# Assuming ATA is defined earlier in your code\n",
        "values, vectors = eig(ATA)\n",
        "print()\n",
        "print(values)\n",
        "print()\n",
        "print(vectors)\n"
      ],
      "metadata": {
        "colab": {
          "base_uri": "https://localhost:8080/"
        },
        "id": "0jN121k8VQYG",
        "outputId": "f95ddb29-7a6d-46c4-de41-78a6dcdae44a"
      },
      "execution_count": 76,
      "outputs": [
        {
          "output_type": "stream",
          "name": "stdout",
          "text": [
            "\n",
            "[2.+0.j 3.+0.j]\n",
            "\n",
            "[[1. 0.]\n",
            " [0. 1.]]\n"
          ]
        }
      ]
    },
    {
      "cell_type": "code",
      "source": [
        "#decompose of ATA again\n",
        "# A = P*D*Transpose(P)\n",
        "# is matrix columns are eigien vectors of A and D i diagonal matrix of eigen values of A along the diagonal\n",
        "\n",
        "r= np.dot(vectors, np.diag(values))\n",
        "recreated = np.dot(r,vectors.T)\n",
        "print('REcreated Matrix =')\n",
        "print('Eigen Vectors * Eigen Vlues * Transpose(Eigen Vectors)')\n",
        "print(recreated)\n",
        "print()\n",
        "print('Original Matrix =\\n',ATA)\n"
      ],
      "metadata": {
        "colab": {
          "base_uri": "https://localhost:8080/"
        },
        "id": "IdYV6exHVQam",
        "outputId": "3086a40d-f93e-4c42-ea0e-6541437bc892"
      },
      "execution_count": 77,
      "outputs": [
        {
          "output_type": "stream",
          "name": "stdout",
          "text": [
            "REcreated Matrix =\n",
            "Eigen Vectors * Eigen Vlues * Transpose(Eigen Vectors)\n",
            "[[2.+0.j 0.+0.j]\n",
            " [0.+0.j 3.+0.j]]\n",
            "\n",
            "Original Matrix =\n",
            " [[2 0]\n",
            " [0 3]]\n"
          ]
        }
      ]
    },
    {
      "cell_type": "code",
      "source": [
        "#Compute Eigen vector and value AAT\n",
        "values, vectors= eig(AAT)\n",
        "\n",
        "print()\n",
        "print(values)\n",
        "print()\n",
        "print(vectors)"
      ],
      "metadata": {
        "colab": {
          "base_uri": "https://localhost:8080/"
        },
        "id": "uQ4WdtpdVQdH",
        "outputId": "d43e32f3-35dc-40f7-dc29-d1aeed396824"
      },
      "execution_count": 78,
      "outputs": [
        {
          "output_type": "stream",
          "name": "stdout",
          "text": [
            "\n",
            "[-0.+0.j  2.+0.j  3.+0.j]\n",
            "\n",
            "[[ 0.4082  0.7071  0.5774]\n",
            " [-0.8165  0.      0.5774]\n",
            " [ 0.4082 -0.7071  0.5774]]\n"
          ]
        }
      ]
    },
    {
      "cell_type": "code",
      "source": [
        "#decompose AAT\n",
        "\n",
        "r= np.dot(vectors, np.diag(values))\n",
        "recreated = np.dot(r,vectors.T)\n",
        "print('REcreated Matrix =')\n",
        "print('Eigen Vectors * Eigen Vlues * Transpose(Eigen Vectors)')\n",
        "print(recreated)\n",
        "print()\n",
        "print('Original Matrix =\\n',AAT)"
      ],
      "metadata": {
        "colab": {
          "base_uri": "https://localhost:8080/"
        },
        "id": "8qzLWyUnVQfY",
        "outputId": "00e52abf-a9dc-4424-94f7-406e1ca06eb7"
      },
      "execution_count": 87,
      "outputs": [
        {
          "output_type": "stream",
          "name": "stdout",
          "text": [
            "REcreated Matrix =\n",
            "Eigen Vectors * Eigen Vlues * Transpose(Eigen Vectors)\n",
            "[[2.+0.j 1.+0.j 0.+0.j]\n",
            " [1.+0.j 1.+0.j 1.+0.j]\n",
            " [0.+0.j 1.+0.j 2.+0.j]]\n",
            "\n",
            "Original Matrix =\n",
            " [[2 1 0]\n",
            " [1 1 1]\n",
            " [0 1 2]]\n"
          ]
        }
      ]
    },
    {
      "cell_type": "code",
      "source": [
        "import numpy as np\n",
        "from scipy.linalg import eig\n",
        "\n",
        "# Compute AAT\n",
        "AAT = np.dot(A, A.T)\n",
        "\n",
        "# Compute eigenvalues and eigenvectors of AAT\n",
        "values, vectors = eig(AAT)\n",
        "\n",
        "# Reconstruct AAT\n",
        "reconstructed = np.dot(np.dot(vectors, np.diag(values)), np.linalg.inv(vectors))\n",
        "\n",
        "# Display the results\n",
        "print(\"Reconstructed Matrix:\")\n",
        "print(reconstructed)\n",
        "print(\"\\nOriginal Matrix (AAT):\")\n",
        "print(AAT)\n"
      ],
      "metadata": {
        "colab": {
          "base_uri": "https://localhost:8080/"
        },
        "id": "pfJr0veYXFtA",
        "outputId": "c75558be-cc82-4828-a2a8-a52591b68fa3"
      },
      "execution_count": 89,
      "outputs": [
        {
          "output_type": "stream",
          "name": "stdout",
          "text": [
            "Reconstructed Matrix:\n",
            "[[ 2.+0.j  1.+0.j  0.+0.j]\n",
            " [ 1.+0.j  1.+0.j  1.+0.j]\n",
            " [-0.+0.j  1.+0.j  2.+0.j]]\n",
            "\n",
            "Original Matrix (AAT):\n",
            "[[2 1 0]\n",
            " [1 1 1]\n",
            " [0 1 2]]\n"
          ]
        }
      ]
    },
    {
      "cell_type": "code",
      "source": [],
      "metadata": {
        "id": "V1U5OaBiXGjM"
      },
      "execution_count": null,
      "outputs": []
    },
    {
      "cell_type": "code",
      "source": [
        "#compute SVD of REctangle matrix\n",
        "np.set_printoptions( precision = 4, suppress=True)\n",
        "from scipy.linalg import svd\n"
      ],
      "metadata": {
        "id": "JaRGlVAwVjiw"
      },
      "execution_count": 90,
      "outputs": []
    },
    {
      "cell_type": "code",
      "source": [
        "V, Sigma, UStar = svd (A)\n",
        "print(V, \"\\n\\n\", Sigma, \"\\n\\n\", UStar)\n"
      ],
      "metadata": {
        "colab": {
          "base_uri": "https://localhost:8080/"
        },
        "id": "7ibRXnNnVjlM",
        "outputId": "d0032083-9b4d-4a8a-afa7-d23908276c7a"
      },
      "execution_count": 91,
      "outputs": [
        {
          "output_type": "stream",
          "name": "stdout",
          "text": [
            "[[-0.5774 -0.7071  0.4082]\n",
            " [-0.5774  0.     -0.8165]\n",
            " [-0.5774  0.7071  0.4082]] \n",
            "\n",
            " [1.7321 1.4142] \n",
            "\n",
            " [[-0. -1.]\n",
            " [-1. -0.]]\n"
          ]
        }
      ]
    },
    {
      "cell_type": "code",
      "source": [
        "#computing back to the orgiginal maatrix back\n",
        "\n",
        "sigmaMatrix = np.diag(Sigma)\n",
        "print('Sigma Matrix \\n', sigmaMatrix)"
      ],
      "metadata": {
        "colab": {
          "base_uri": "https://localhost:8080/"
        },
        "id": "4NBr7D6_VjnJ",
        "outputId": "96974db3-1b43-49bd-e0f0-45c9779f136e"
      },
      "execution_count": 92,
      "outputs": [
        {
          "output_type": "stream",
          "name": "stdout",
          "text": [
            "Sigma Matrix \n",
            " [[1.7321 0.    ]\n",
            " [0.     1.4142]]\n"
          ]
        }
      ]
    },
    {
      "cell_type": "code",
      "source": [
        "#apply zeros to get rectangular matrix-tricks\n",
        "z= np.zeros((2,1))\n",
        "sigmaMatrix_extended = np.hstack((sigmaMatrix,z))\n",
        "print(sigmaMatrix)\n"
      ],
      "metadata": {
        "colab": {
          "base_uri": "https://localhost:8080/"
        },
        "id": "OV9MAt5wVQhm",
        "outputId": "9ecb9985-34dc-4055-a83d-e4e3233dcb42"
      },
      "execution_count": 93,
      "outputs": [
        {
          "output_type": "stream",
          "name": "stdout",
          "text": [
            "[[1.7321 0.    ]\n",
            " [0.     1.4142]]\n"
          ]
        }
      ]
    },
    {
      "cell_type": "code",
      "source": [
        "import numpy as np\n",
        "from scipy.linalg import svd\n",
        "\n",
        "A = np.array([[1, 1],\n",
        "              [0, 1],\n",
        "              [-1, 1]])\n",
        "\n",
        "# Compute SVD\n",
        "U, Sigma, Vt = svd(A)\n",
        "\n",
        "# Extend Sigma to make it rectangular\n",
        "z = np.zeros((2, 1))\n",
        "sigmaMatrix_extended = np.hstack((np.diag(Sigma), z))\n",
        "\n",
        "# Verification of SVD\n",
        "res = np.dot(Vt.T, sigmaMatrix_extended)\n",
        "recreateA = np.dot(res, U.T)\n",
        "\n",
        "# Display the results\n",
        "print(\"Recreated Matrix A:\")\n",
        "print(recreateA)\n",
        "print(\"\\nOriginal Matrix A:\")\n",
        "print(A)\n"
      ],
      "metadata": {
        "colab": {
          "base_uri": "https://localhost:8080/"
        },
        "id": "sbGPeavwYIQR",
        "outputId": "9fa1aefe-60af-401d-8b6f-a9b46c2a5e63"
      },
      "execution_count": 95,
      "outputs": [
        {
          "output_type": "stream",
          "name": "stdout",
          "text": [
            "Recreated Matrix A:\n",
            "[[ 1.  0. -1.]\n",
            " [ 1.  1.  1.]]\n",
            "\n",
            "Original Matrix A:\n",
            "[[ 1  1]\n",
            " [ 0  1]\n",
            " [-1  1]]\n"
          ]
        }
      ]
    },
    {
      "cell_type": "code",
      "source": [
        "#Verification of SVD original rectangular MAtrix\n",
        "\n",
        "\n",
        "#rectangal matrix B\n",
        "import numpy as np\n",
        "#A = np.array([[3, 1, 1],[-1,3,1]])\n",
        "A = np.array ([[1, 1],[0, 1],[-1, 1]])\n",
        "print(A)\n",
        "\n",
        "\n",
        "#compute AtA and AAT  to get Square\n",
        "ATA= np.dot(A.T,A)\n",
        "AAT = np.dot(A,A.T)\n",
        "print('ATA')\n",
        "print(ATA)\n",
        "\n",
        "print('AAT')\n",
        "print(AAT)\n",
        "\n",
        "\n",
        "from scipy.linalg import eig\n",
        "#compute Eigen vectors and values of ATA\n",
        "\n",
        "# Assuming ATA is defined earlier in your code\n",
        "values, vectors = eig(ATA)\n",
        "print()\n",
        "print(values)\n",
        "print()\n",
        "print(vectors)\n",
        "\n",
        "#decopm ATA\n",
        "\n",
        "r= np.dot(vectors, np.diag(values))\n",
        "recreated = np.dot(r,vectors.T)\n",
        "print('REcreated Matrix =')\n",
        "print('Eigen Vectors * Eigen Vlues * Transpose(Eigen Vectors)')\n",
        "print(recreated)\n",
        "print()\n",
        "print('Original Matrix =\\n',ATA)\n",
        "\n",
        "\n",
        "#Compute Eigen vector and value AAT\n",
        "values, vectors= eig(AAT)\n",
        "\n",
        "print()\n",
        "print(values)\n",
        "print()\n",
        "print(vectors)\n",
        "\n",
        "#decompose AAT\n",
        "\n",
        "r= np.dot(vectors, np.diag(values))\n",
        "recreated = np.dot(r,vectors.T)\n",
        "print('REcreated Matrix =')\n",
        "print('Eigen Vectors * Eigen Vlues * Transpose(Eigen Vectors)')\n",
        "print(recreated)\n",
        "print()\n",
        "print('Original Matrix =\\n',AAT)\n",
        "\n",
        "\n",
        "#compute SVD of REctangle matrix\n",
        "np.set_printoptions( precision = 4, suppress=True)\n",
        "from scipy.linalg import svd\n",
        "\n",
        "\n",
        "V, Sigma, UStar = svd (A)\n",
        "print(V, \"\\n\\n\", Sigma, \"\\n\\n\", UStar)\n",
        "\n",
        "sigmaMatrix = np.diag(Sigma)\n",
        "print('Sigma MAtrix \\n', sigmaMatrix)\n",
        "\n",
        "\n",
        "z= np.zeros((1,3))\n",
        "sigmaMatrix_extended = np.hstack((sigmaMatrix,z))\n",
        "print(sigmaMatrix_extended)\n",
        "\n",
        "\n",
        "res = np.dot(V,sigmaMatrix_extended)\n",
        "print(res)\n",
        "recreateA = np.dot(res,UStar)\n",
        "print( '\\nREcreated Matrix A \\n',recreateA)\n",
        "print('\\nOriginal Matrix A \\n', A)\n",
        "print()"
      ],
      "metadata": {
        "colab": {
          "base_uri": "https://localhost:8080/",
          "height": 1000
        },
        "id": "VejyzmBZVQlA",
        "outputId": "7a420f4c-1fd5-4faf-c0ed-21ba40cfe8d7"
      },
      "execution_count": 127,
      "outputs": [
        {
          "output_type": "stream",
          "name": "stdout",
          "text": [
            "[[ 1  1]\n",
            " [ 0  1]\n",
            " [-1  1]]\n",
            "ATA\n",
            "[[2 0]\n",
            " [0 3]]\n",
            "AAT\n",
            "[[2 1 0]\n",
            " [1 1 1]\n",
            " [0 1 2]]\n",
            "\n",
            "[2.+0.j 3.+0.j]\n",
            "\n",
            "[[1. 0.]\n",
            " [0. 1.]]\n",
            "REcreated Matrix =\n",
            "Eigen Vectors * Eigen Vlues * Transpose(Eigen Vectors)\n",
            "[[2.+0.j 0.+0.j]\n",
            " [0.+0.j 3.+0.j]]\n",
            "\n",
            "Original Matrix =\n",
            " [[2 0]\n",
            " [0 3]]\n",
            "\n",
            "[-0.+0.j  2.+0.j  3.+0.j]\n",
            "\n",
            "[[ 0.4082  0.7071  0.5774]\n",
            " [-0.8165  0.      0.5774]\n",
            " [ 0.4082 -0.7071  0.5774]]\n",
            "REcreated Matrix =\n",
            "Eigen Vectors * Eigen Vlues * Transpose(Eigen Vectors)\n",
            "[[2.+0.j 1.+0.j 0.+0.j]\n",
            " [1.+0.j 1.+0.j 1.+0.j]\n",
            " [0.+0.j 1.+0.j 2.+0.j]]\n",
            "\n",
            "Original Matrix =\n",
            " [[2 1 0]\n",
            " [1 1 1]\n",
            " [0 1 2]]\n",
            "[[-0.5774 -0.7071  0.4082]\n",
            " [-0.5774  0.     -0.8165]\n",
            " [-0.5774  0.7071  0.4082]] \n",
            "\n",
            " [1.7321 1.4142] \n",
            "\n",
            " [[-0. -1.]\n",
            " [-1. -0.]]\n",
            "Sigma MAtrix \n",
            " [[1.7321 0.    ]\n",
            " [0.     1.4142]]\n"
          ]
        },
        {
          "output_type": "error",
          "ename": "ValueError",
          "evalue": "all the input array dimensions for the concatenation axis must match exactly, but along dimension 0, the array at index 0 has size 2 and the array at index 1 has size 1",
          "traceback": [
            "\u001b[0;31m---------------------------------------------------------------------------\u001b[0m",
            "\u001b[0;31mValueError\u001b[0m                                Traceback (most recent call last)",
            "\u001b[0;32m<ipython-input-127-772c94e1aab4>\u001b[0m in \u001b[0;36m<cell line: 74>\u001b[0;34m()\u001b[0m\n\u001b[1;32m     72\u001b[0m \u001b[0;34m\u001b[0m\u001b[0m\n\u001b[1;32m     73\u001b[0m \u001b[0mz\u001b[0m\u001b[0;34m=\u001b[0m \u001b[0mnp\u001b[0m\u001b[0;34m.\u001b[0m\u001b[0mzeros\u001b[0m\u001b[0;34m(\u001b[0m\u001b[0;34m(\u001b[0m\u001b[0;36m1\u001b[0m\u001b[0;34m,\u001b[0m\u001b[0;36m3\u001b[0m\u001b[0;34m)\u001b[0m\u001b[0;34m)\u001b[0m\u001b[0;34m\u001b[0m\u001b[0;34m\u001b[0m\u001b[0m\n\u001b[0;32m---> 74\u001b[0;31m \u001b[0msigmaMatrix_extended\u001b[0m \u001b[0;34m=\u001b[0m \u001b[0mnp\u001b[0m\u001b[0;34m.\u001b[0m\u001b[0mhstack\u001b[0m\u001b[0;34m(\u001b[0m\u001b[0;34m(\u001b[0m\u001b[0msigmaMatrix\u001b[0m\u001b[0;34m,\u001b[0m\u001b[0mz\u001b[0m\u001b[0;34m)\u001b[0m\u001b[0;34m)\u001b[0m\u001b[0;34m\u001b[0m\u001b[0;34m\u001b[0m\u001b[0m\n\u001b[0m\u001b[1;32m     75\u001b[0m \u001b[0mprint\u001b[0m\u001b[0;34m(\u001b[0m\u001b[0msigmaMatrix_extended\u001b[0m\u001b[0;34m)\u001b[0m\u001b[0;34m\u001b[0m\u001b[0;34m\u001b[0m\u001b[0m\n\u001b[1;32m     76\u001b[0m \u001b[0;34m\u001b[0m\u001b[0m\n",
            "\u001b[0;32m/usr/local/lib/python3.10/dist-packages/numpy/core/overrides.py\u001b[0m in \u001b[0;36mhstack\u001b[0;34m(*args, **kwargs)\u001b[0m\n",
            "\u001b[0;32m/usr/local/lib/python3.10/dist-packages/numpy/core/shape_base.py\u001b[0m in \u001b[0;36mhstack\u001b[0;34m(tup)\u001b[0m\n\u001b[1;32m    343\u001b[0m         \u001b[0;32mreturn\u001b[0m \u001b[0m_nx\u001b[0m\u001b[0;34m.\u001b[0m\u001b[0mconcatenate\u001b[0m\u001b[0;34m(\u001b[0m\u001b[0marrs\u001b[0m\u001b[0;34m,\u001b[0m \u001b[0;36m0\u001b[0m\u001b[0;34m)\u001b[0m\u001b[0;34m\u001b[0m\u001b[0;34m\u001b[0m\u001b[0m\n\u001b[1;32m    344\u001b[0m     \u001b[0;32melse\u001b[0m\u001b[0;34m:\u001b[0m\u001b[0;34m\u001b[0m\u001b[0;34m\u001b[0m\u001b[0m\n\u001b[0;32m--> 345\u001b[0;31m         \u001b[0;32mreturn\u001b[0m \u001b[0m_nx\u001b[0m\u001b[0;34m.\u001b[0m\u001b[0mconcatenate\u001b[0m\u001b[0;34m(\u001b[0m\u001b[0marrs\u001b[0m\u001b[0;34m,\u001b[0m \u001b[0;36m1\u001b[0m\u001b[0;34m)\u001b[0m\u001b[0;34m\u001b[0m\u001b[0;34m\u001b[0m\u001b[0m\n\u001b[0m\u001b[1;32m    346\u001b[0m \u001b[0;34m\u001b[0m\u001b[0m\n\u001b[1;32m    347\u001b[0m \u001b[0;34m\u001b[0m\u001b[0m\n",
            "\u001b[0;32m/usr/local/lib/python3.10/dist-packages/numpy/core/overrides.py\u001b[0m in \u001b[0;36mconcatenate\u001b[0;34m(*args, **kwargs)\u001b[0m\n",
            "\u001b[0;31mValueError\u001b[0m: all the input array dimensions for the concatenation axis must match exactly, but along dimension 0, the array at index 0 has size 2 and the array at index 1 has size 1"
          ]
        }
      ]
    },
    {
      "cell_type": "code",
      "source": [
        "import numpy as np\n",
        "from scipy.linalg import eig\n",
        "\n",
        "A = np.array([[1, 1],\n",
        "              [0, 1],\n",
        "              [-1, 1]])\n",
        "\n",
        "# Compute AAT\n",
        "AAT = np.dot(A, A.T)\n",
        "\n",
        "# Compute eigenvalues and eigenvectors\n",
        "values, vectors = eig(AAT)\n",
        "\n",
        "# Reconstruct the original matrix AAT\n",
        "reconstructed_AAT = np.dot(np.dot(vectors, np.diag(values)), vectors.T)\n",
        "\n",
        "# Display the results\n",
        "print('Reconstructed Matrix:')\n",
        "print(reconstructed_AAT)\n",
        "print('\\nOriginal Matrix:')\n",
        "print(AAT)\n"
      ],
      "metadata": {
        "colab": {
          "base_uri": "https://localhost:8080/"
        },
        "id": "Ed5oLO2TT3JP",
        "outputId": "693b3d78-d43d-44f3-cf3e-1e015372ed9f"
      },
      "execution_count": 86,
      "outputs": [
        {
          "output_type": "stream",
          "name": "stdout",
          "text": [
            "Reconstructed Matrix:\n",
            "[[2.+0.j 1.+0.j 0.+0.j]\n",
            " [1.+0.j 1.+0.j 1.+0.j]\n",
            " [0.+0.j 1.+0.j 2.+0.j]]\n",
            "\n",
            "Original Matrix:\n",
            "[[2 1 0]\n",
            " [1 1 1]\n",
            " [0 1 2]]\n"
          ]
        }
      ]
    },
    {
      "cell_type": "code",
      "source": [
        "# Using the Singular Value Decomposition (SVD) principals, perform the Latent Semantics Analysis\n",
        "# (LSA) of the following 6 documents. Divide these documents into 2 different topics.\n",
        "\n",
        "#1. 'runs',\n",
        "#2. 'runs pitcher innings',\n",
        "#3. 'pitcher',\n",
        "#4. 'touchdown',\n",
        "#5. 'quarterback',\n",
        "#6. 'touchdown quarterback'\n",
        "#Use the following 2 libraries to solve this problem.\n",
        "# from sklearn.feature_extraction.text import CountVectorizer\n",
        "\n",
        "# from sklearn.decomposition import TruncatedSVD"
      ],
      "metadata": {
        "id": "0AEEPVUqcRJj"
      },
      "execution_count": null,
      "outputs": []
    },
    {
      "cell_type": "code",
      "source": [],
      "metadata": {
        "id": "_BZSNEsAbbLc"
      },
      "execution_count": null,
      "outputs": []
    },
    {
      "cell_type": "code",
      "source": [],
      "metadata": {
        "id": "mx022SsvZhro"
      },
      "execution_count": null,
      "outputs": []
    },
    {
      "cell_type": "code",
      "source": [],
      "metadata": {
        "id": "CMlb_p5NZhuO"
      },
      "execution_count": null,
      "outputs": []
    },
    {
      "cell_type": "code",
      "source": [],
      "metadata": {
        "id": "ODlQpLcMZhxs"
      },
      "execution_count": null,
      "outputs": []
    },
    {
      "cell_type": "code",
      "source": [],
      "metadata": {
        "id": "pqO1YxDiJlzN"
      },
      "execution_count": null,
      "outputs": []
    },
    {
      "cell_type": "code",
      "source": [],
      "metadata": {
        "id": "zBuVEVhkFQHX"
      },
      "execution_count": null,
      "outputs": []
    },
    {
      "cell_type": "code",
      "source": [],
      "metadata": {
        "id": "ukVwH_OwFQK9"
      },
      "execution_count": null,
      "outputs": []
    }
  ]
}